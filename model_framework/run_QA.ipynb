{
 "cells": [
  {
   "cell_type": "markdown",
   "metadata": {},
   "source": [
    "# Question Answering\n",
    "- This notebook extracts exact answers to queries from long natural language documents (CARTA Contracts)\n",
    "\n",
    "- This script uses pretrained model (BERT-based question answering) available in huggingface library, which was trained on SQUAD dataset\n",
    "\n",
    "- If supervised training data is available, we can finetune this model using techniques similar to train_NER.ipynb\n",
    "\n",
    "### Example: \n",
    "\n",
    "context = \"New Zealand (Māori: Aotearoa) is a sovereign island country in the southwestern Pacific Ocean. It has a total land area of 268,000 square kilometres (103,500 sq mi), and a population of 4.9 million. New Zealand's capital city is Wellington, and its most populous city is Auckland.\"\n",
    "\n",
    "questions = \"How many people live in New Zealand?\", \"What's the largest city?\"\n",
    "\n",
    "Answers = 4.9 million, Auckland\n",
    "\n",
    "### Documents:\n",
    "\n",
    "- Online Demo of BERT-based QA model: https://huggingface.co/bert-large-uncased-whole-word-masking-finetuned-squad\n",
    "\n",
    "- Complete Results: https://instabase.atlassian.net/browse/INSIGHTS-1514\n",
    "\n",
    "- Slides: https://docs.google.com/presentation/d/1aB6dWmaLYSilZQsnVwa2mH2Gu1jVCRV3FZ-YtqxsNqY/edit?usp=sharing\n",
    "\n",
    "- Final Intern presentation: https://docs.google.com/presentation/d/10mXA7K5sa_nAkqx2onsIfrH3TPj2Ni4LfCOxDhN5XBI/edit?usp=sharing"
   ]
  },
  {
   "cell_type": "code",
   "execution_count": 2,
   "metadata": {
    "tags": []
   },
   "outputs": [
    {
     "output_type": "stream",
     "name": "stderr",
     "text": "Using TensorFlow backend.\n"
    }
   ],
   "source": [
    "import os\n",
    "import importlib\n",
    "import logging\n",
    "import time\n",
    "importlib.reload(logging)\n",
    "import framework\n",
    "importlib.reload(framework)\n",
    "import bert_qa\n",
    "importlib.reload(bert_qa)\n",
    "import infer_bert_qa\n",
    "importlib.reload(infer_bert_qa)\n",
    "import bert_utils\n",
    "importlib.reload(bert_utils)\n",
    "import pandas as pd\n",
    "from framework import DataCuration, FeatureEngineering\n",
    "from bert_qa import TaskQA, FeatureEngineeringQA, BERTQA\n",
    "\n",
    "# Define some constants and configurations\n",
    "logging.getLogger().setLevel(logging.INFO)\n",
    "ACCESS_TOKEN = 'WUpGevbWC9lsnTW8quNUtmWRdAEM89'"
   ]
  },
  {
   "cell_type": "markdown",
   "metadata": {},
   "source": [
    "## Specify Task\n",
    "- Mention configurations of the task and create a task object"
   ]
  },
  {
   "cell_type": "code",
   "execution_count": 3,
   "metadata": {},
   "outputs": [],
   "source": [
    "DATASET = 'carta' # supports w2 and resume\n",
    "TASK_CONFIG = {\n",
    "    'task': 'qa'\n",
    "}\n",
    "\n",
    "task = TaskQA(TASK_CONFIG)"
   ]
  },
  {
   "cell_type": "markdown",
   "metadata": {},
   "source": [
    "## Curate dataset\n",
    "- Specify paths for dataset and goldens (if available). Paths can be local or from instabase drives (use *is_local*). \n",
    "- Also specify configurations like extensions, column names to use as index. \n",
    "- Currently supports csv format for goldens, ibocr/ibdoc for dataset. \n",
    "- Use *context2txt* to extract and store raw texts. \n",
    "- This block creates a object of DataCuration() which maps goldens with the dataset and removes any mismatches, generates 1:1 mapping. \n",
    "- This object can be queried using *data.golden* or *data.dataset* or *data.dataset.texts* based on requirement\n",
    "\n",
    "### Files:\n",
    "- Download documents (ibocr files) from https://www.instabase.com/ib_solutions/solutions/fs/Instabase%20Drive/poc/carta/Annotated%20Sample/out/s1_process_files/ and specify local directory path\n",
    "- Alternatively, specify instabase drive path (/ib_solutions/solutions/fs/Instabase%20Drive/poc/carta/Annotated%20Sample/out/s1_process_files/) and set *is_local* as False\n",
    "- Manually created goldens for sample Annotated files can be found here: https://docs.google.com/spreadsheets/u/2/d/1kT7suSh_261tiOGnxFTF-YB-DXy9lxJf4om6kUD3asE/edit#gid=0"
   ]
  },
  {
   "cell_type": "code",
   "execution_count": 4,
   "metadata": {
    "tags": []
   },
   "outputs": [
    {
     "output_type": "stream",
     "name": "stderr",
     "text": "INFO:root:Loading dataset from /Users/ahsaasbajaj/Documents/Data/CARTA/Annotated Samples/out/s1_process_files\nINFO:root:4 files loaded\nINFO:root:Converting IBOCR/IBDOC to raw texts\nINFO:root:Loading goldens from /Users/ahsaasbajaj/Documents/Data/CARTA/Annotated Samples/golden/output.csv\nINFO:root:Total files Goldens: (4, 9)\nINFO:root:Total files found in the source with unique index: (4, 9)\n"
    }
   ],
   "source": [
    "CARTA_DATA = [\n",
    "   '/Users/ahsaasbajaj/Documents/Data/CARTA/Annotated Samples/out/s1_process_files'\n",
    "]\n",
    "CARTA_GOLDEN = [\n",
    "   '/Users/ahsaasbajaj/Documents/Data/CARTA/Annotated Samples/golden/output.csv'\n",
    "]\n",
    "\n",
    "GOLDEN_CONFIG = {\n",
    "    'path': CARTA_GOLDEN,\n",
    "    'is_local': True,\n",
    "    'index_field_name':'filename',\n",
    "    'file_type': 'csv',\n",
    "    'identifier': 'file'\n",
    "}\n",
    "DATASET_CONFIG = {\n",
    "    'path': CARTA_DATA,\n",
    "    'is_local': True, \n",
    "    'file_type': 'ibocr',\n",
    "    'identifier': lambda path: os.path.basename(path).split('.ibocr')[0],\n",
    "    'convert2txt': True\n",
    "}\n",
    "\n",
    "data = DataCuration(ACCESS_TOKEN, DATASET_CONFIG, GOLDEN_CONFIG)"
   ]
  },
  {
   "cell_type": "markdown",
   "metadata": {},
   "source": [
    "### Print Data objects and Goldens"
   ]
  },
  {
   "cell_type": "code",
   "execution_count": 5,
   "metadata": {},
   "outputs": [
    {
     "output_type": "execute_result",
     "data": {
      "text/plain": "{'annotated_AOI_2.pdf': <instabase.ocr.client.libs.ibocr.ParsedIBOCR at 0x154d63438>,\n 'annotated_AOI_3.pdf': <instabase.ocr.client.libs.ibocr.ParsedIBOCR at 0x155670828>,\n 'annotated_AOI_4.pdf': <instabase.ocr.client.libs.ibocr.ParsedIBOCR at 0x1549e4b70>,\n 'annotated_AOI_5.pdf': <instabase.ocr.client.libs.ibocr.ParsedIBOCR at 0x1551938d0>}"
     },
     "metadata": {},
     "execution_count": 5
    }
   ],
   "source": [
    "data.dataset"
   ]
  },
  {
   "cell_type": "code",
   "execution_count": 6,
   "metadata": {},
   "outputs": [
    {
     "output_type": "execute_result",
     "data": {
      "text/plain": "                            Number of authorized\\nshares / share class  \\\nfilename                                                                 \nannotated_AOI_2.pdf  Common Stock: 15,442,630 shares; Preferred Sto...   \nannotated_AOI_3.pdf  Common Stock: 13,000,000 shares; Preferred Sto...   \nannotated_AOI_4.pdf  Common Stock: 16,000,000 shares; Preferred Sto...   \nannotated_AOI_5.pdf  Common Stock: 18,527,000 shares; Preferred Sto...   \n\n                    Number of authorized shares / preferred share type  \\\nfilename                                                                 \nannotated_AOI_2.pdf  Series A Preferred Stock: 3,899,551 shares; Se...   \nannotated_AOI_3.pdf  Series Seed-1 Preferred Stock: 910,000 shares;...   \nannotated_AOI_4.pdf  Series Seed Preferred Stock: 1,820,119 shares;...   \nannotated_AOI_5.pdf  Series Seed Preferred Stock: 2,575,871 shares;...   \n\n                     Cumulative dividends  \\\nfilename                                    \nannotated_AOI_2.pdf                 False   \nannotated_AOI_3.pdf                 False   \nannotated_AOI_4.pdf                 False   \nannotated_AOI_5.pdf                 False   \n\n                                                         Dividend rate  \\\nfilename                                                                 \nannotated_AOI_2.pdf  Series A Preferred Stock: 6% per annum; Series...   \nannotated_AOI_3.pdf  Series Seed-1 preferred stock: $0.0264 per sha...   \nannotated_AOI_4.pdf  Series A Preferred Stock: $0.1044 per annum pe...   \nannotated_AOI_5.pdf                                        Not defined   \n\n                                                  Original Issue Price  \\\nfilename                                                                 \nannotated_AOI_2.pdf  Series A Preferred Stock: $1.649 per share; Se...   \nannotated_AOI_3.pdf  Series Seed-1 preferred stock: $0.65 per share...   \nannotated_AOI_4.pdf  Series Seed Preferred Stock: $0.795 per share;...   \nannotated_AOI_5.pdf  Series Seed Preferred Stock: $ 1.0676 per shar...   \n\n                         Liquidation preference / preferred share type  \\\nfilename                                                                 \nannotated_AOI_2.pdf  Series A Preferred Stock: $1.649 per share; Se...   \nannotated_AOI_3.pdf  Series Seed-1 preferred stock: $0.33 per share...   \nannotated_AOI_4.pdf  Series Seed Preferred Stock: $0.795 per share;...   \nannotated_AOI_5.pdf  Series Seed Preferred Stock: $ 1.0676 per shar...   \n\n                                     Seniority (Preferred share class)  \\\nfilename                                                                 \nannotated_AOI_2.pdf  Series A Preferred Stock: 1; Series A-1 Prefer...   \nannotated_AOI_3.pdf  Series Seed-1 preferred stock: 1; Series Seed-...   \nannotated_AOI_4.pdf  Series Seed Preferred Stock: 1; Series A Prefe...   \nannotated_AOI_5.pdf  Series Seed Preferred Stock: 1; Series A Prefe...   \n\n                           Participation (Preferred share class)  \\\nfilename                                                           \nannotated_AOI_2.pdf                                         None   \nannotated_AOI_3.pdf                                         None   \nannotated_AOI_4.pdf  Series A Preferred Stock: $2.6098 per share   \nannotated_AOI_5.pdf                                         None   \n\n                              Conversion price (Preferred share class)  \nfilename                                                                \nannotated_AOI_2.pdf  Series A Preferred Stock: $1.649 per share; Se...  \nannotated_AOI_3.pdf  Series Seed-1 preferred stock: $0.65 per share...  \nannotated_AOI_4.pdf  Series Seed Preferred Stock: $0.795 per share;...  \nannotated_AOI_5.pdf  Series Seed Preferred Stock: $ 1.0676 per shar...  ",
      "text/html": "<div>\n<style scoped>\n    .dataframe tbody tr th:only-of-type {\n        vertical-align: middle;\n    }\n\n    .dataframe tbody tr th {\n        vertical-align: top;\n    }\n\n    .dataframe thead th {\n        text-align: right;\n    }\n</style>\n<table border=\"1\" class=\"dataframe\">\n  <thead>\n    <tr style=\"text-align: right;\">\n      <th></th>\n      <th>Number of authorized\nshares / share class</th>\n      <th>Number of authorized shares / preferred share type</th>\n      <th>Cumulative dividends</th>\n      <th>Dividend rate</th>\n      <th>Original Issue Price</th>\n      <th>Liquidation preference / preferred share type</th>\n      <th>Seniority (Preferred share class)</th>\n      <th>Participation (Preferred share class)</th>\n      <th>Conversion price (Preferred share class)</th>\n    </tr>\n    <tr>\n      <th>filename</th>\n      <th></th>\n      <th></th>\n      <th></th>\n      <th></th>\n      <th></th>\n      <th></th>\n      <th></th>\n      <th></th>\n      <th></th>\n    </tr>\n  </thead>\n  <tbody>\n    <tr>\n      <th>annotated_AOI_2.pdf</th>\n      <td>Common Stock: 15,442,630 shares; Preferred Sto...</td>\n      <td>Series A Preferred Stock: 3,899,551 shares; Se...</td>\n      <td>False</td>\n      <td>Series A Preferred Stock: 6% per annum; Series...</td>\n      <td>Series A Preferred Stock: $1.649 per share; Se...</td>\n      <td>Series A Preferred Stock: $1.649 per share; Se...</td>\n      <td>Series A Preferred Stock: 1; Series A-1 Prefer...</td>\n      <td>None</td>\n      <td>Series A Preferred Stock: $1.649 per share; Se...</td>\n    </tr>\n    <tr>\n      <th>annotated_AOI_3.pdf</th>\n      <td>Common Stock: 13,000,000 shares; Preferred Sto...</td>\n      <td>Series Seed-1 Preferred Stock: 910,000 shares;...</td>\n      <td>False</td>\n      <td>Series Seed-1 preferred stock: $0.0264 per sha...</td>\n      <td>Series Seed-1 preferred stock: $0.65 per share...</td>\n      <td>Series Seed-1 preferred stock: $0.33 per share...</td>\n      <td>Series Seed-1 preferred stock: 1; Series Seed-...</td>\n      <td>None</td>\n      <td>Series Seed-1 preferred stock: $0.65 per share...</td>\n    </tr>\n    <tr>\n      <th>annotated_AOI_4.pdf</th>\n      <td>Common Stock: 16,000,000 shares; Preferred Sto...</td>\n      <td>Series Seed Preferred Stock: 1,820,119 shares;...</td>\n      <td>False</td>\n      <td>Series A Preferred Stock: $0.1044 per annum pe...</td>\n      <td>Series Seed Preferred Stock: $0.795 per share;...</td>\n      <td>Series Seed Preferred Stock: $0.795 per share;...</td>\n      <td>Series Seed Preferred Stock: 1; Series A Prefe...</td>\n      <td>Series A Preferred Stock: $2.6098 per share</td>\n      <td>Series Seed Preferred Stock: $0.795 per share;...</td>\n    </tr>\n    <tr>\n      <th>annotated_AOI_5.pdf</th>\n      <td>Common Stock: 18,527,000 shares; Preferred Sto...</td>\n      <td>Series Seed Preferred Stock: 2,575,871 shares;...</td>\n      <td>False</td>\n      <td>Not defined</td>\n      <td>Series Seed Preferred Stock: $ 1.0676 per shar...</td>\n      <td>Series Seed Preferred Stock: $ 1.0676 per shar...</td>\n      <td>Series Seed Preferred Stock: 1; Series A Prefe...</td>\n      <td>None</td>\n      <td>Series Seed Preferred Stock: $ 1.0676 per shar...</td>\n    </tr>\n  </tbody>\n</table>\n</div>"
     },
     "metadata": {},
     "execution_count": 6
    }
   ],
   "source": [
    "data.golden"
   ]
  },
  {
   "cell_type": "markdown",
   "metadata": {},
   "source": [
    "### Specify queries (for question answering)"
   ]
  },
  {
   "cell_type": "code",
   "execution_count": 7,
   "metadata": {},
   "outputs": [],
   "source": [
    "open_queries = [ \n",
    "                \"Who is incorporating the company?\",\n",
    "                \"How many shares are being created?\",\n",
    "                \"What are the number of authorized shares?\",\n",
    "                \"What are the Preferred stocks?\",\n",
    "                \"What are the Non-cumulative dividends?\",\n",
    "                \"What are the Common stocks?\",\n",
    "                \"What is the Dividend rate per annum per preferred share type?\",\n",
    "                \"What is the original issue price per share?\",\n",
    "                \"What is the seniority of preferred share?\",\n",
    "                \"What is the liquidation preference?\",\n",
    "                \"What is the conversion price\"\n",
    "                ]\n",
    "\n",
    "closed_queries = [ \n",
    "                \"The company is incorporated by\",\n",
    "                \"The number of shares being created are\",\n",
    "                \"The common stocks are\",\n",
    "                \"The Preferred stocks are\",\n",
    "                \"The Non-cumulative dividends are\",\n",
    "                \"The Dividend rate per annum per preferred share type are\",\n",
    "                \"The number of authorized shares are\",\n",
    "                \"The Original Issue Price per share is\",\n",
    "                \"The Liquidation preference is\"\n",
    "                ]"
   ]
  },
  {
   "cell_type": "markdown",
   "metadata": {},
   "source": [
    "## Modeling (BERT Inference for question answering)\n",
    "- Specify model type and load fine-tuned model for inference\n",
    "- Specify queries to be inferred\n",
    "- This model uses pretrained BERT QA model which was finetuned on standard datasets\n",
    "\n",
    "### Specify TRAINING_ARGS\n",
    "- Mention the class of model, to be used appropriately by back-end huggingface libraries\n",
    "- Mention the path where outputs to queries are to be written\n",
    "- Also supports the use of GPU for deep learning libraries\n",
    "\n",
    "### Model Files:\n",
    "Specify bert-large-uncased-whole-word-masking-finetuned-squad in *model_file_or_path* of TRAINING_ARGS for huggingface to automatically downloads checkpoint in runtime\n",
    "\n",
    "Alternatively, follow the steps below:\n",
    "- Download (config.json, modelcard.json, pytorch_model.bin, vocab.txt) files from https://huggingface.co/bert-large-uncased-whole-word-masking-finetuned-squad#list-files\n",
    "- Rename names of downloaded files to the exact names mentioned in link above\n",
    "- Specify the local directory path containing above files in *model_file_or_path* of TRAINING_ARGS\n",
    "\n",
    "\n",
    "Note: Below code takes a long time to run due to huge size of documents and multiple documnets in our CARTA_DATA path\n",
    "\n",
    "To run for sample (one doc, one query), check *run_QA_demo.ipynb*"
   ]
  },
  {
   "cell_type": "code",
   "execution_count": null,
   "metadata": {
    "tags": []
   },
   "outputs": [],
   "source": [
    "NUM_FILES = len(data.dataset.keys())\n",
    "stime = time.time()\n",
    "\n",
    "DATA_ARGS = {\n",
    "    'task': task,\n",
    "    'dataset': data\n",
    "}\n",
    "\n",
    "queries = open_queries\n",
    "TRAINING_ARGS = {\n",
    "'model_file_or_path': \"bert-large-uncased-whole-word-masking-finetuned-squad\", #  or download files from https://huggingface.co/bert-large-uncased-whole-word-masking-finetuned-squad and place in a local directory. Specify local dir path here.\n",
    "'gpu': False,\n",
    "'output_dir': '../outputs/bert_qa'\n",
    "}\n",
    "\n",
    "model = BERTQA(DATA_ARGS, TRAINING_ARGS)\n",
    "output = model.predict(queries)\n",
    "\n",
    "etime = time.time()\n",
    "logging.info('Total time for {} files and {} queries each is {} seconds'.format(NUM_FILES, len(queries), (etime - stime)))"
   ]
  },
  {
   "cell_type": "markdown",
   "metadata": {},
   "source": [
    "### Complete Results generated by this script are available here: https://instabase.atlassian.net/browse/INSIGHTS-1514"
   ]
  }
 ],
 "metadata": {
  "language_info": {
   "codemirror_mode": {
    "name": "ipython",
    "version": 3
   },
   "file_extension": ".py",
   "mimetype": "text/x-python",
   "name": "python",
   "nbconvert_exporter": "python",
   "pygments_lexer": "ipython3",
   "version": "3.7.3-final"
  },
  "orig_nbformat": 2,
  "kernelspec": {
   "name": "python_defaultSpec_1598415438515",
   "display_name": "Python 3.7.3 64-bit ('3.7.3': pyenv)"
  }
 },
 "nbformat": 4,
 "nbformat_minor": 2
}