{
 "cells": [
  {
   "cell_type": "code",
   "execution_count": 7,
   "metadata": {
    "tags": []
   },
   "outputs": [],
   "source": [
    "import os\n",
    "import logging\n",
    "import importlib\n",
    "import framework\n",
    "importlib.reload(framework)\n",
    "import test_classifier\n",
    "importlib.reload(test_classifier)\n",
    "import data_utils\n",
    "importlib.reload(data_utils)\n",
    "from framework import Usecase, DataCuration, FeatureEngineering, ModelEvaluator\n",
    "import pandas as pd\n",
    "# Define some constants and configurations\n",
    "logging.getLogger().setLevel(logging.INFO)\n",
    "\n",
    "ACCESS_TOKEN = 'WUpGevbWC9lsnTW8quNUtmWRdAEM89'"
   ]
  },
  {
   "cell_type": "markdown",
   "metadata": {},
   "source": [
    "Set up the usecase details"
   ]
  },
  {
   "cell_type": "code",
   "execution_count": 8,
   "metadata": {},
   "outputs": [],
   "source": [
    "USECASE = 'ner'\n",
    "USECASE_CONFIG = {\n",
    "    'dataset': 'w2',\n",
    "    'num_labels': 3,\n",
    "    'labels_dict': {'person' : 0, 'org' : 1, 'address' : 2, 'none': 3}\n",
    "}\n",
    "\n",
    "usecase = Usecase(USECASE)\n",
    "usecase.setConfig(USECASE_CONFIG)"
   ]
  },
  {
   "cell_type": "markdown",
   "metadata": {},
   "source": [
    "Set paths for datasets and goldens (local or ib, both work).\n",
    "Specify configurations"
   ]
  },
  {
   "cell_type": "code",
   "execution_count": 9,
   "metadata": {
    "tags": []
   },
   "outputs": [
    {
     "output_type": "stream",
     "name": "stderr",
     "text": "INFO:root:Loading dataset from /Users/ahsaasbajaj/Documents/Data/w2-instabase/flow/s2_map_records\nINFO:root:Loading goldens from /Users/ahsaasbajaj/Documents/Data/w2-instabase/golden/goldens.csv\nTotal files Goldens:  (154, 25)\nTotal files found in the source (142, 25)\n"
    }
   ],
   "source": [
    "DATAS = {\n",
    "    ('ner', 'w2') : '/Users/ahsaasbajaj/Documents/Data/w2-instabase/flow/s2_map_records'\n",
    "}\n",
    "\n",
    "GOLDENS = {\n",
    "  ('ner', 'w2') : '/Users/ahsaasbajaj/Documents/Data/w2-instabase/golden/goldens.csv'\n",
    "}\n",
    "\n",
    "DATASET = USECASE_CONFIG['dataset']\n",
    "DATA = DATAS[(USECASE, DATASET)]\n",
    "GOLDEN = GOLDENS[(USECASE, DATASET)]\n",
    "\n",
    "GOLDEN_CONFIG = {\n",
    "    'is_local': True,\n",
    "    'index_field_name':'filename',\n",
    "    'file_type': 'csv',\n",
    "    'skip_first_row': True,\n",
    "    'identifier': 'file'\n",
    "}\n",
    "DATASET_CONFIG = {\n",
    "    'is_local': True, \n",
    "    'file_type': 'ibocr',\n",
    "    'identifier': lambda path: os.path.basename(path).split('.ibocr')[0],\n",
    "    'convert2txt': False\n",
    "}\n",
    "\n",
    "w2 = DataCuration(ACCESS_TOKEN, DATA, DATASET_CONFIG, GOLDEN, GOLDEN_CONFIG)   "
   ]
  },
  {
   "cell_type": "code",
   "execution_count": 10,
   "metadata": {
    "tags": []
   },
   "outputs": [
    {
     "output_type": "stream",
     "name": "stdout",
     "text": "Generating candidates for 142 files\nFor X_DIST_THRESHOLD configuraion: 100\ntotal files: 142\nperson names found in candidates: 131\norg names found in candidates: 79\n\n"
    }
   ],
   "source": [
    "PROCESSING_CONFIG = {\n",
    "    'X_DIST_THRESHOLD': 100\n",
    "}\n",
    "CANDIDATES_FIELDS = {\n",
    "    'person':'employee_name',\n",
    "    'org':'employer_name'\n",
    "}\n",
    "w2.processIBOCR2candidatePhrases(DATASET_CONFIG, PROCESSING_CONFIG)\n",
    "w2.compare_candidates_and_goldens(PROCESSING_CONFIG, CANDIDATES_FIELDS)"
   ]
  },
  {
   "cell_type": "markdown",
   "metadata": {},
   "source": [
    "Generate test data from goldens (from actual persons and company names)"
   ]
  },
  {
   "cell_type": "code",
   "execution_count": 11,
   "metadata": {},
   "outputs": [
    {
     "output_type": "execute_result",
     "data": {
      "text/plain": "                 context  label\n45             MARY BORO      0\n233     AMAZON FRESH LLC      1\n150  JPMORGAN CHASE BANK      1\n171   QUICKEN LOANS INC.      1\n124   MELANIE T BAUTISTA      0",
      "text/html": "<div>\n<style scoped>\n    .dataframe tbody tr th:only-of-type {\n        vertical-align: middle;\n    }\n\n    .dataframe tbody tr th {\n        vertical-align: top;\n    }\n\n    .dataframe thead th {\n        text-align: right;\n    }\n</style>\n<table border=\"1\" class=\"dataframe\">\n  <thead>\n    <tr style=\"text-align: right;\">\n      <th></th>\n      <th>context</th>\n      <th>label</th>\n    </tr>\n  </thead>\n  <tbody>\n    <tr>\n      <th>45</th>\n      <td>MARY BORO</td>\n      <td>0</td>\n    </tr>\n    <tr>\n      <th>233</th>\n      <td>AMAZON FRESH LLC</td>\n      <td>1</td>\n    </tr>\n    <tr>\n      <th>150</th>\n      <td>JPMORGAN CHASE BANK</td>\n      <td>1</td>\n    </tr>\n    <tr>\n      <th>171</th>\n      <td>QUICKEN LOANS INC.</td>\n      <td>1</td>\n    </tr>\n    <tr>\n      <th>124</th>\n      <td>MELANIE T BAUTISTA</td>\n      <td>0</td>\n    </tr>\n  </tbody>\n</table>\n</div>"
     },
     "metadata": {},
     "execution_count": 11
    }
   ],
   "source": [
    "fe = FeatureEngineering(usecase, w2, CANDIDATES_FIELDS)\n",
    "test_data = fe.generate_test_samples_from_goldens()\n",
    "test_data.head()"
   ]
  },
  {
   "cell_type": "markdown",
   "metadata": {},
   "source": [
    "Load trained (fine-tuned models) for inference"
   ]
  },
  {
   "cell_type": "markdown",
   "metadata": {},
   "source": []
  },
  {
   "cell_type": "code",
   "execution_count": 6,
   "metadata": {
    "tags": []
   },
   "outputs": [
    {
     "output_type": "error",
     "ename": "NameError",
     "evalue": "name 'test_data' is not defined",
     "traceback": [
      "\u001b[0;31m---------------------------------------------------------------------------\u001b[0m",
      "\u001b[0;31mNameError\u001b[0m                                 Traceback (most recent call last)",
      "\u001b[0;32m<ipython-input-6-665f1d713c5f>\u001b[0m in \u001b[0;36m<module>\u001b[0;34m()\u001b[0m\n\u001b[1;32m     14\u001b[0m \u001b[0mmodel_evaluator\u001b[0m \u001b[0;34m=\u001b[0m \u001b[0mModelEvaluator\u001b[0m\u001b[0;34m(\u001b[0m\u001b[0;34m)\u001b[0m\u001b[0;34m\u001b[0m\u001b[0;34m\u001b[0m\u001b[0m\n\u001b[1;32m     15\u001b[0m \u001b[0mmodel_evaluator\u001b[0m\u001b[0;34m.\u001b[0m\u001b[0msetModelConfig\u001b[0m\u001b[0;34m(\u001b[0m\u001b[0mMODEL_CONFIG\u001b[0m\u001b[0;34m)\u001b[0m\u001b[0;34m\u001b[0m\u001b[0;34m\u001b[0m\u001b[0m\n\u001b[0;32m---> 16\u001b[0;31m \u001b[0moutput\u001b[0m \u001b[0;34m=\u001b[0m \u001b[0mmodel_evaluator\u001b[0m\u001b[0;34m.\u001b[0m\u001b[0mrunEvaluation\u001b[0m\u001b[0;34m(\u001b[0m\u001b[0mtest_data\u001b[0m\u001b[0;34m)\u001b[0m\u001b[0;34m\u001b[0m\u001b[0;34m\u001b[0m\u001b[0m\n\u001b[0m",
      "\u001b[0;31mNameError\u001b[0m: name 'test_data' is not defined"
     ]
    }
   ],
   "source": [
    "MODEL_TRAIN_DATA = 'w2'\n",
    "\n",
    "MODELS = {\n",
    "    ('ner', 'w2') : '/Users/ahsaasbajaj/Documents/Code/ner-hf/sequence-classification/w2/no-address/5/model.pt',\n",
    "    ('ner', 'public') : '/Users/ahsaasbajaj/Documents/Code/ner-hf/sequence-classification/public/no-address/200/model.pt'\n",
    "}\n",
    "\n",
    "MODEL_CONFIG = {\n",
    "    'model_file_or_path' : MODELS[(USECASE, MODEL_TRAIN_DATA)],\n",
    "    'num_labels': USECASE_CONFIG['num_labels'],\n",
    "    'gpu': False\n",
    "}\n",
    "\n",
    "model_evaluator = ModelEvaluator()\n",
    "model_evaluator.setModelConfig(MODEL_CONFIG)\n",
    "output = model_evaluator.runEvaluation(test_data)"
   ]
  },
  {
   "cell_type": "code",
   "execution_count": null,
   "metadata": {},
   "outputs": [],
   "source": []
  },
  {
   "cell_type": "code",
   "execution_count": null,
   "metadata": {},
   "outputs": [],
   "source": []
  }
 ],
 "metadata": {
  "language_info": {
   "codemirror_mode": {
    "name": "ipython",
    "version": 3
   },
   "file_extension": ".py",
   "mimetype": "text/x-python",
   "name": "python",
   "nbconvert_exporter": "python",
   "pygments_lexer": "ipython3",
   "version": 3
  },
  "orig_nbformat": 2,
  "kernelspec": {
   "name": "python_defaultSpec_1594631208690",
   "display_name": "Python 3.7.3 64-bit ('3.7.3': pyenv)"
  }
 },
 "nbformat": 4,
 "nbformat_minor": 2
}