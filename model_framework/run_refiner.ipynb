{
 "cells": [
  {
   "cell_type": "code",
   "execution_count": 149,
   "metadata": {
    "tags": []
   },
   "outputs": [],
   "source": [
    "import os\n",
    "import importlib\n",
    "import logging\n",
    "importlib.reload(logging)\n",
    "import framework\n",
    "importlib.reload(framework)\n",
    "import refiner\n",
    "importlib.reload(refiner)\n",
    "import infer_bert_classifier\n",
    "importlib.reload(infer_bert_classifier)\n",
    "import bert_utils\n",
    "importlib.reload(bert_utils)\n",
    "import pandas as pd\n",
    "import webbrowser\n",
    "from framework import DataCuration\n",
    "from refiner import Refiner, TaskNER\n",
    "\n",
    "# Define some constants and configurations\n",
    "logging.getLogger().setLevel(logging.INFO)\n",
    "ACCESS_TOKEN = 'WUpGevbWC9lsnTW8quNUtmWRdAEM89'"
   ]
  },
  {
   "cell_type": "markdown",
   "metadata": {},
   "source": [
    "Set up the task details. This notebook handles NER (for labeling person and company names)"
   ]
  },
  {
   "cell_type": "code",
   "execution_count": 150,
   "metadata": {},
   "outputs": [],
   "source": [
    "DATASET = 'w2' # supports w2 and resume\n",
    "TASK_CONFIG = {\n",
    "    'task': 'ner',\n",
    "    'num_labels': 3,\n",
    "    'labels_dict': {'person' : 0, 'org' : 1, 'none': 2}\n",
    "}\n",
    "\n",
    "task = TaskNER(TASK_CONFIG)"
   ]
  },
  {
   "cell_type": "code",
   "execution_count": 151,
   "metadata": {
    "tags": []
   },
   "outputs": [
    {
     "output_type": "stream",
     "name": "stderr",
     "text": "INFO:root:Loading dataset from /Users/ahsaasbajaj/Documents/Data/w2-instabase/flow/s2_map_records\nINFO:root:142 files loaded\nINFO:root:Loading goldens from /Users/ahsaasbajaj/Documents/Data/w2-instabase/golden/goldens.csv\nINFO:root:Total files Goldens: (154, 25)\nINFO:root:Total files found in the source with unique index: (142, 25)\nINFO:root:Processing 142 IBOCR files to txt\n"
    }
   ],
   "source": [
    "W2_DATA = [\n",
    "   '/Users/ahsaasbajaj/Documents/Data/w2-instabase/flow/s2_map_records'\n",
    "]\n",
    "W2_GOLDEN = [\n",
    "   '/Users/ahsaasbajaj/Documents/Data/w2-instabase/golden/goldens.csv'\n",
    "]\n",
    "\n",
    "GOLDEN_CONFIG = {\n",
    "    'path': W2_GOLDEN,\n",
    "    'is_local': True,\n",
    "    'index_field_name':'filename',\n",
    "    'file_type': 'csv',\n",
    "    'identifier': 'file'\n",
    "}\n",
    "DATASET_CONFIG = {\n",
    "    'path': W2_DATA,\n",
    "    'is_local': True, \n",
    "    'file_type': 'ibocr',\n",
    "    'identifier': lambda path: os.path.basename(path).split('.ibocr')[0],\n",
    "    'convert2txt': True\n",
    "}\n",
    "\n",
    "data = DataCuration(ACCESS_TOKEN, DATASET_CONFIG, GOLDEN_CONFIG)"
   ]
  },
  {
   "cell_type": "code",
   "execution_count": 152,
   "metadata": {},
   "outputs": [
    {
     "output_type": "execute_result",
     "data": {
      "text/plain": "                               employee_ssn  box5_medicare_wages  \\\nfilename                                                           \nlast_year_w2_1493334985571.PDF  561-87-0728             36505.83   \nlast_year_w2_1493334989467.PDF  408-31-3195             51350.25   \nlast_year_w2_1493334998968.PDF  261-77-1595            105916.49   \nlast_year_w2_1493335006405.PDF  452-93-6475             35987.53   \nlast_year_w2_1493752474038.PDF  365-04-7683             85245.86   \n\n                                box3_ss_wage  box6_medicare_withholding  \\\nfilename                                                                  \nlast_year_w2_1493334985571.PDF      36505.83                     529.33   \nlast_year_w2_1493334989467.PDF      51350.25                     744.58   \nlast_year_w2_1493334998968.PDF     105916.49                    1535.82   \nlast_year_w2_1493335006405.PDF      35987.53                     521.82   \nlast_year_w2_1493752474038.PDF      85245.86                    1236.06   \n\n                                box4_ss_withholding  box2_fed_withhold  \\\nfilename                                                                 \nlast_year_w2_1493334985571.PDF              2263.36            4093.92   \nlast_year_w2_1493334989467.PDF              3183.72            6940.69   \nlast_year_w2_1493334998968.PDF              6566.82           24471.02   \nlast_year_w2_1493335006405.PDF              2231.23            2814.31   \nlast_year_w2_1493752474038.PDF              5285.24           13629.89   \n\n                               box17_state_income_tax  box1_wage  \\\nfilename                                                           \nlast_year_w2_1493334985571.PDF                 519.22   36505.83   \nlast_year_w2_1493334989467.PDF                    NaN   47242.23   \nlast_year_w2_1493334998968.PDF                    NaN  105916.49   \nlast_year_w2_1493335006405.PDF                    NaN   35987.53   \nlast_year_w2_1493752474038.PDF                3129.87   77722.96   \n\n                                box8_allocated_tips          box14_other  ...  \\\nfilename                                                                  ...   \nlast_year_w2_1493334985571.PDF                  NaN           [\"328.55\"]  ...   \nlast_year_w2_1493334989467.PDF                  NaN                  NaN  ...   \nlast_year_w2_1493334998968.PDF                  NaN                  NaN  ...   \nlast_year_w2_1493335006405.PDF                  NaN                  NaN  ...   \nlast_year_w2_1493752474038.PDF                  NaN  [\"2069.50\", \"9.00\"]  ...   \n\n                               box12c_amount  box12d_code box12d_amount  \\\nfilename                                                                  \nlast_year_w2_1493334985571.PDF           NaN          NaN           NaN   \nlast_year_w2_1493334989467.PDF           NaN          NaN           NaN   \nlast_year_w2_1493334998968.PDF           NaN          NaN           NaN   \nlast_year_w2_1493335006405.PDF           NaN          NaN           NaN   \nlast_year_w2_1493752474038.PDF      10815.96          NaN           NaN   \n\n                                employer_federal_ein document_type  \\\nfilename                                                             \nlast_year_w2_1493334985571.PDF           01-0726495             W2   \nlast_year_w2_1493334989467.PDF           06-1102358             W2   \nlast_year_w2_1493334998968.PDF            36-4248787            W2   \nlast_year_w2_1493335006405.PDF           74-2482708             W2   \nlast_year_w2_1493752474038.PDF           75-2778918             W2   \n\n                                template_name  \\\nfilename                                        \nlast_year_w2_1493334985571.PDF     general_w2   \nlast_year_w2_1493334989467.PDF     general_w2   \nlast_year_w2_1493334998968.PDF     general_w2   \nlast_year_w2_1493335006405.PDF     general_w2   \nlast_year_w2_1493752474038.PDF     general_w2   \n\n                                                                  employer_name  \\\nfilename                                                                          \nlast_year_w2_1493334985571.PDF                                 BROKER SOLUTIONS   \nlast_year_w2_1493334989467.PDF                            FORMAN INDUSTRIES INC   \nlast_year_w2_1493334998968.PDF  YASH-LUJAN CONSULTING INC Y & L CONSULTING, INC   \nlast_year_w2_1493335006405.PDF                  TECO-WESTINGHOUSE MOTOR COMPANY   \nlast_year_w2_1493752474038.PDF                                 FLOWSERVE US INC   \n\n                                   employee_name w2_year  gross_pay  \nfilename                                                             \nlast_year_w2_1493334985571.PDF  PATRICIA HEREDIA  2016.0   39105.41  \nlast_year_w2_1493334989467.PDF   THOMAS V. MOORE  2016.0   51350.25  \nlast_year_w2_1493334998968.PDF   STACY L STUMETZ  2016.0  110240.00  \nlast_year_w2_1493335006405.PDF      HENRY COTTLE  2016.0   43827.05  \nlast_year_w2_1493752474038.PDF  JASON ALLEN JERZ  2016.0   88420.20  \n\n[5 rows x 25 columns]",
      "text/html": "<div>\n<style scoped>\n    .dataframe tbody tr th:only-of-type {\n        vertical-align: middle;\n    }\n\n    .dataframe tbody tr th {\n        vertical-align: top;\n    }\n\n    .dataframe thead th {\n        text-align: right;\n    }\n</style>\n<table border=\"1\" class=\"dataframe\">\n  <thead>\n    <tr style=\"text-align: right;\">\n      <th></th>\n      <th>employee_ssn</th>\n      <th>box5_medicare_wages</th>\n      <th>box3_ss_wage</th>\n      <th>box6_medicare_withholding</th>\n      <th>box4_ss_withholding</th>\n      <th>box2_fed_withhold</th>\n      <th>box17_state_income_tax</th>\n      <th>box1_wage</th>\n      <th>box8_allocated_tips</th>\n      <th>box14_other</th>\n      <th>...</th>\n      <th>box12c_amount</th>\n      <th>box12d_code</th>\n      <th>box12d_amount</th>\n      <th>employer_federal_ein</th>\n      <th>document_type</th>\n      <th>template_name</th>\n      <th>employer_name</th>\n      <th>employee_name</th>\n      <th>w2_year</th>\n      <th>gross_pay</th>\n    </tr>\n    <tr>\n      <th>filename</th>\n      <th></th>\n      <th></th>\n      <th></th>\n      <th></th>\n      <th></th>\n      <th></th>\n      <th></th>\n      <th></th>\n      <th></th>\n      <th></th>\n      <th></th>\n      <th></th>\n      <th></th>\n      <th></th>\n      <th></th>\n      <th></th>\n      <th></th>\n      <th></th>\n      <th></th>\n      <th></th>\n      <th></th>\n    </tr>\n  </thead>\n  <tbody>\n    <tr>\n      <th>last_year_w2_1493334985571.PDF</th>\n      <td>561-87-0728</td>\n      <td>36505.83</td>\n      <td>36505.83</td>\n      <td>529.33</td>\n      <td>2263.36</td>\n      <td>4093.92</td>\n      <td>519.22</td>\n      <td>36505.83</td>\n      <td>NaN</td>\n      <td>[\"328.55\"]</td>\n      <td>...</td>\n      <td>NaN</td>\n      <td>NaN</td>\n      <td>NaN</td>\n      <td>01-0726495</td>\n      <td>W2</td>\n      <td>general_w2</td>\n      <td>BROKER SOLUTIONS</td>\n      <td>PATRICIA HEREDIA</td>\n      <td>2016.0</td>\n      <td>39105.41</td>\n    </tr>\n    <tr>\n      <th>last_year_w2_1493334989467.PDF</th>\n      <td>408-31-3195</td>\n      <td>51350.25</td>\n      <td>51350.25</td>\n      <td>744.58</td>\n      <td>3183.72</td>\n      <td>6940.69</td>\n      <td>NaN</td>\n      <td>47242.23</td>\n      <td>NaN</td>\n      <td>NaN</td>\n      <td>...</td>\n      <td>NaN</td>\n      <td>NaN</td>\n      <td>NaN</td>\n      <td>06-1102358</td>\n      <td>W2</td>\n      <td>general_w2</td>\n      <td>FORMAN INDUSTRIES INC</td>\n      <td>THOMAS V. MOORE</td>\n      <td>2016.0</td>\n      <td>51350.25</td>\n    </tr>\n    <tr>\n      <th>last_year_w2_1493334998968.PDF</th>\n      <td>261-77-1595</td>\n      <td>105916.49</td>\n      <td>105916.49</td>\n      <td>1535.82</td>\n      <td>6566.82</td>\n      <td>24471.02</td>\n      <td>NaN</td>\n      <td>105916.49</td>\n      <td>NaN</td>\n      <td>NaN</td>\n      <td>...</td>\n      <td>NaN</td>\n      <td>NaN</td>\n      <td>NaN</td>\n      <td>36-4248787</td>\n      <td>W2</td>\n      <td>general_w2</td>\n      <td>YASH-LUJAN CONSULTING INC Y &amp; L CONSULTING, INC</td>\n      <td>STACY L STUMETZ</td>\n      <td>2016.0</td>\n      <td>110240.00</td>\n    </tr>\n    <tr>\n      <th>last_year_w2_1493335006405.PDF</th>\n      <td>452-93-6475</td>\n      <td>35987.53</td>\n      <td>35987.53</td>\n      <td>521.82</td>\n      <td>2231.23</td>\n      <td>2814.31</td>\n      <td>NaN</td>\n      <td>35987.53</td>\n      <td>NaN</td>\n      <td>NaN</td>\n      <td>...</td>\n      <td>NaN</td>\n      <td>NaN</td>\n      <td>NaN</td>\n      <td>74-2482708</td>\n      <td>W2</td>\n      <td>general_w2</td>\n      <td>TECO-WESTINGHOUSE MOTOR COMPANY</td>\n      <td>HENRY COTTLE</td>\n      <td>2016.0</td>\n      <td>43827.05</td>\n    </tr>\n    <tr>\n      <th>last_year_w2_1493752474038.PDF</th>\n      <td>365-04-7683</td>\n      <td>85245.86</td>\n      <td>85245.86</td>\n      <td>1236.06</td>\n      <td>5285.24</td>\n      <td>13629.89</td>\n      <td>3129.87</td>\n      <td>77722.96</td>\n      <td>NaN</td>\n      <td>[\"2069.50\", \"9.00\"]</td>\n      <td>...</td>\n      <td>10815.96</td>\n      <td>NaN</td>\n      <td>NaN</td>\n      <td>75-2778918</td>\n      <td>W2</td>\n      <td>general_w2</td>\n      <td>FLOWSERVE US INC</td>\n      <td>JASON ALLEN JERZ</td>\n      <td>2016.0</td>\n      <td>88420.20</td>\n    </tr>\n  </tbody>\n</table>\n<p>5 rows × 25 columns</p>\n</div>"
     },
     "metadata": {},
     "execution_count": 152
    }
   ],
   "source": [
    "data.golden.head()"
   ]
  },
  {
   "cell_type": "markdown",
   "metadata": {},
   "source": [
    "Set paths for datasets and goldens (local or ib, both work).\n",
    "Specify configurations"
   ]
  },
  {
   "cell_type": "code",
   "execution_count": 153,
   "metadata": {},
   "outputs": [],
   "source": [
    "DATASET = 'w2' # supports w2 and resume\n",
    "TASK_CONFIG = {\n",
    "    'task': 'ner',\n",
    "    'num_labels': 3,\n",
    "    'labels_dict': {'person' : 0, 'org' : 1, 'none': 2}\n",
    "}\n",
    "\n",
    "task = TaskNER(TASK_CONFIG)"
   ]
  },
  {
   "cell_type": "code",
   "execution_count": 154,
   "metadata": {
    "tags": []
   },
   "outputs": [],
   "source": [
    "W2_REFINER_RESULT_PATH = '/Users/ahsaasbajaj/Documents/Code/ner-hf/sequence-classification/refiner_results/w2.ibocr'\n",
    "RESUME_REFINER_RESULT_PATH = '/Users/ahsaasbajaj/Documents/Code/ner-hf/sequence-classification/refiner_results/resume.ibocr'\n",
    "\n",
    "DATA_ARGS = {\n",
    "    'task': task,\n",
    "    'dataset': data,\n",
    "    'candidates_fields': {\n",
    "        'person':'employee_name',\n",
    "        'org':'employer_name'\n",
    "    }\n",
    "}\n",
    "TRAINING_ARGS = {\n",
    "    'model_file_or_path' : W2_REFINER_RESULT_PATH,\n",
    "    'num_labels': TASK_CONFIG['num_labels'],\n",
    "}\n",
    "\n",
    "MODELS_TO_EVAL = {\n",
    "    'models': ['names_vontell', 'names_token_matcher'],\n",
    "    'spacy_models': ['names_spacy', 'org_spacy'],\n",
    "\n",
    "    'person_name_models': ['names_vontell', 'names_token_matcher', 'names_spacy'],\n",
    "    'org_name_models': ['org_spacy'],\n",
    "}"
   ]
  },
  {
   "cell_type": "markdown",
   "metadata": {},
   "source": [
    "Load ouputs from refiner flow (after step 4 producing single out.ibocr) and get extractions and metrics (Recall, Precision, F1) by comparing with goldens"
   ]
  },
  {
   "cell_type": "code",
   "execution_count": 155,
   "metadata": {
    "tags": []
   },
   "outputs": [
    {
     "output_type": "stream",
     "name": "stderr",
     "text": "INFO:root:\nPerson Name Scores\nINFO:root:For model names_vontell, recall: 0.7465, precision: 0.4180, F1: 0.5359 \nINFO:root:For model names_token_matcher, recall: 0.6549, precision: 0.4602, F1: 0.5405 \nINFO:root:For model names_spacy, recall: 0.0915, precision: 0.0034, F1: 0.0066 \nINFO:root:\nOrg Name Scores\nINFO:root:For model org_spacy, recall: 0.0775, precision: 0.0012, F1: 0.0023 \n"
    }
   ],
   "source": [
    "model = Refiner(DATA_ARGS, TRAINING_ARGS, MODELS_TO_EVAL)\n",
    "results = model.analyze_results()"
   ]
  },
  {
   "cell_type": "markdown",
   "metadata": {},
   "source": [
    "Print extractions"
   ]
  },
  {
   "cell_type": "code",
   "execution_count": 156,
   "metadata": {
    "tags": []
   },
   "outputs": [
    {
     "output_type": "stream",
     "name": "stdout",
     "text": "dict_keys(['person', 'org'])\ndict_keys(['names_vontell', 'names_token_matcher', 'names_spacy'])\n"
    }
   ],
   "source": [
    "print(results.keys())\n",
    "print(results['person'].keys())\n",
    "# print(results['person']['names_vontell'].keys())"
   ]
  },
  {
   "cell_type": "code",
   "execution_count": 157,
   "metadata": {
    "tags": []
   },
   "outputs": [
    {
     "output_type": "execute_result",
     "data": {
      "text/plain": "dict_keys(['last_year_w2_1494610589440.PDF', 'last_year_w2_1493919658342.PDF', 'last_year_w2_1494609473036.PDF', 'last_year_w2_1493919676693.PDF', 'last_year_w2_1494967766712.PDF', 'last_year_w2_1494967275596.PDF', 'last_year_w2_1495565064610.PDF', 'last_year_w2_1494271104951.PDF', 'last_year_w2_1494974543429.PDF', 'last_year_w2_1494968098673.PDF', 'last_year_w2_1494968081996.PDF', 'last_year_w2_1494968808776.pdf', 'last_year_w2_1495142754897.PDF', 'last_year_w2_1494265175121.PDF', 'last_year_w2_1494261908342.PDF', 'last_year_w2_1494968101626.PDF', 'last_year_w2_1494976044553.PDF', 'last_year_w2_1494271068960.pdf', 'last_year_w2_1494342956999.pdf', 'last_year_w2_1495120461121.PNG', 'last_year_w2_1494271121485.PDF', 'last_year_w2_1494976364261.PDF', 'last_year_w2_1494271204620.PDF', 'last_year_w2_1495120702277.PDF', 'last_year_w2_1495059592755.JPEG', 'last_year_w2_1495059646952.PNG', 'last_year_w2_1495563052751.PDF', 'last_year_w2_1494968839220.PDF', 'last_year_w2_1494262066281.PDF', 'last_year_w2_1494968739707.PDF', 'last_year_w2_1494967342590.PDF', 'last_year_w2_1494976227984.PDF', 'last_year_w2_1495580393199.PDF', 'last_year_w2_1494967502078.PDF', 'last_year_w2_1493334998968.PDF', 'last_year_w2_1494342988517.PDF', 'last_year_w2_1494973281950.pdf', 'last_year_w2_1494968716771.pdf', 'last_year_w2_1494968657219.PDF', 'last_year_w2_1493919692244.PDF', 'last_year_w2_1494967936569.PDF', 'last_year_w2_1493919795941.PDF', 'last_year_w2_1495565031369.JPEG', 'last_year_w2_1495142539328.PDF', 'last_year_w2_1494973619602.pdf', 'last_year_w2_1495120476042.PDF', 'last_year_w2_1493919867322.PDF', 'last_year_w2_1494968769919.PDF', 'last_year_w2_1493752534354.PDF', 'last_year_w2_1495580731840.PDF', 'last_year_w2_1495563119916.PDF', 'last_year_w2_1495580134983.PNG', 'last_year_w2_1495120427727.PNG', 'last_year_w2_1494611010084.PDF', 'last_year_w2_1495142315422.PDF', 'last_year_w2_1494974281600.pdf', 'last_year_w2_1495565430115.PDF', 'last_year_w2_1494974354749.PDF', 'last_year_w2_1494974414895.PDF', 'last_year_w2_1494973709362.PDF', 'last_year_w2_1494343011313.PDF', 'last_year_w2_1494967235432.PDF', 'last_year_w2_1494968030430.pdf', 'last_year_w2_1494271162294.PDF', 'last_year_w2_1494271132398.PDF', 'last_year_w2_1494968304898.pdf', 'last_year_w2_1494266854379.pdf', 'last_year_w2_1494968562615.PDF', 'last_year_w2_1494976200348.PDF', 'last_year_w2_1493919663593.PDF', 'last_year_w2_1493919644111.PDF', 'last_year_w2_1494973439192.PDF', 'last_year_w2_1494271195603.PDF', 'last_year_w2_1493755055795.PDF', 'last_year_w2_1494967978788.PDF', 'last_year_w2_1493919897445.PDF', 'last_year_w2_1494967692875.PDF', 'last_year_w2_1495231610867.PDF', 'last_year_w2_1495120490059.PDF', 'last_year_w2_1493919686919.PDF', 'last_year_w2_1493334985571.PDF', 'last_year_w2_1495564821316.PDF', 'last_year_w2_1495562635718.PNG', 'last_year_w2_1495562738481.PDF', 'last_year_w2_1495564349271.PDF', 'last_year_w2_1493752474038.PDF', 'last_year_w2_1494976591528.PDF', 'last_year_w2_1494968326840.PDF', 'last_year_w2_1495563191725.PDF', 'last_year_w2_1494967555101.PDF', 'last_year_w2_1494342984428.PDF', 'last_year_w2_1495142408599.PDF', 'last_year_w2_1494967858361.PDF', 'last_year_w2_1494968629832.PDF', 'last_year_w2_1494972980996.PDF', 'last_year_w2_1494968553744.PDF', 'last_year_w2_1494968525373.PDF', 'last_year_w2_1494607092402.PDF', 'last_year_w2_1494968285360.PDF', 'last_year_w2_1494607780730.pdf', 'last_year_w2_1494968078670.PDF', 'last_year_w2_1494968371198.PDF', 'last_year_w2_1494607068742.PDF', 'last_year_w2_1494974200182.pdf', 'last_year_w2_1494968229792.PDF', 'last_year_w2_1494967595670.PDF', 'last_year_w2_1494609463139.pdf', 'last_year_w2_1494967450417.PDF', 'last_year_w2_1494342971788.PDF', 'last_year_w2_1493335006405.PDF', 'last_year_w2_1494607347795.PDF', 'last_year_w2_1494974496670.PDF', 'last_year_w2_1494968011320.PDF', 'last_year_w2_1494968075297.PDF', 'last_year_w2_1495564098180.PDF', 'last_year_w2_1494271080815.pdf', 'last_year_w2_1493752539506.PDF', 'last_year_w2_1494973862236.PDF', 'last_year_w2_1493919681752.PDF', 'last_year_w2_1494261867263.PDF', 'last_year_w2_1495563693590.JPEG', 'last_year_w2_1494609579761.PDF', 'last_year_w2_1494968400061.pdf', 'last_year_w2_1494967368851.pdf', 'last_year_w2_1494973378162.PDF', 'last_year_w2_1494342994194.PDF', 'last_year_w2_1493919830139.PDF', 'last_year_w2_1495580364382.PDF', 'last_year_w2_1494967542380.PDF', 'last_year_w2_1493919671233.PDF', 'last_year_w2_1495120384760.JPEG', 'last_year_w2_1494611258120.pdf', 'last_year_w2_1493334989467.PDF', 'last_year_w2_1495562857169.PDF', 'last_year_w2_1494968783718.PDF', 'last_year_w2_1494968703766.pdf', 'last_year_w2_1494967672208.pdf', 'last_year_w2_1494342980561.PDF', 'last_year_w2_1493919837646.pdf', 'last_year_w2_1494968749784.PDF', 'last_year_w2_1494968117938.PDF', 'last_year_w2_1494343028867.PDF'])"
     },
     "metadata": {},
     "execution_count": 157
    }
   ],
   "source": [
    "data.dataset.keys()"
   ]
  },
  {
   "cell_type": "code",
   "execution_count": 158,
   "metadata": {
    "tags": []
   },
   "outputs": [
    {
     "output_type": "execute_result",
     "data": {
      "text/plain": "True"
     },
     "metadata": {},
     "execution_count": 158
    }
   ],
   "source": [
    "DIR_PATH = '/Users/ahsaasbajaj/Documents/Data/w2-instabase/pdf'\n",
    "DEMO_FILE = 'last_year_w2_1494607092402.PDF'\n",
    "\n",
    "FILE_PATH = DIR_PATH + '/' + DEMO_FILE \n",
    "webbrowser.open_new(r'file:' + FILE_PATH)"
   ]
  },
  {
   "cell_type": "code",
   "execution_count": 159,
   "metadata": {
    "tags": []
   },
   "outputs": [
    {
     "output_type": "stream",
     "name": "stderr",
     "text": "INFO:root:golden person: CHRISTINA A MEWIS\nINFO:root:golden company: EVELYN BAIRD GENTRY CORP DBA CAPP ELECTR\nINFO:root:Field type: person\nINFO:root:model type: names_vontell\nINFO:root:{'CHRISTINA A MEWIS', 'EVELYN BAIRD GENTRY'}\nINFO:root:\n\nINFO:root:model type: names_token_matcher\nINFO:root:{'EVELYN BAIRD', 'EVELYN BAIRD GENTRY', 'BAIRD GENTRY CORP', 'BAIRD GENTRY'}\nINFO:root:\n\nINFO:root:model type: names_spacy\nINFO:root:{'Filed', \"Employer's\", 'CHRISTINA', 'Dependent', '61071.57', '017128671', 'W2 B', 'DD', 'Wage', 'Suff'}\nINFO:root:\n\nINFO:root:\n\nINFO:root:Field type: org\nINFO:root:model type: org_spacy\nINFO:root:{\"Employee's\", 'TX', '7 Social', 'BAIRD GENTRY CORP', 'Tax 2016', 'EIN', 'HOUSTON', 'Employee', 'the Internal Revenue Service', 'Department', 'the Treasury- Internal Revenue Service Form Statement Copy B-', 'EVELYN', '2', 'Medicare', 'Safe'}\nINFO:root:\n\nINFO:root:\n\n"
    }
   ],
   "source": [
    "model.demo(results, DEMO_FILE)"
   ]
  },
  {
   "cell_type": "code",
   "execution_count": null,
   "metadata": {},
   "outputs": [],
   "source": []
  }
 ],
 "metadata": {
  "language_info": {
   "codemirror_mode": {
    "name": "ipython",
    "version": 3
   },
   "file_extension": ".py",
   "mimetype": "text/x-python",
   "name": "python",
   "nbconvert_exporter": "python",
   "pygments_lexer": "ipython3",
   "version": 3
  },
  "orig_nbformat": 2,
  "kernelspec": {
   "name": "python_defaultSpec_1597298274218",
   "display_name": "Python 3.7.3 64-bit ('3.7.3': pyenv)"
  }
 },
 "nbformat": 4,
 "nbformat_minor": 2
}