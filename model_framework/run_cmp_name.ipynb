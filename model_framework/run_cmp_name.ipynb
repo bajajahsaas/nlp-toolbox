{
 "cells": [
  {
   "cell_type": "code",
   "execution_count": null,
   "metadata": {
    "tags": []
   },
   "outputs": [],
   "source": [
    "import os\n",
    "import importlib\n",
    "import logging\n",
    "importlib.reload(logging)\n",
    "import framework\n",
    "importlib.reload(framework)\n",
    "import MultiLayerPerceptron\n",
    "importlib.reload(MultiLayerPerceptron)\n",
    "import infer_bert_classifier\n",
    "importlib.reload(infer_bert_classifier)\n",
    "import bert_utils\n",
    "importlib.reload(bert_utils)\n",
    "import pandas as pd\n",
    "import time\n",
    "import keras\n",
    "from framework import DataCuration, Task\n",
    "from MultiLayerPerceptron import FeatureEngineeringMultiLayerPerceptron, MultiLayerPerceptron\n",
    "from keras.models import Sequential\n",
    "from keras.layers import Dense, Dropout\n",
    "\n",
    "# Define some constants and configurations\n",
    "logging.getLogger().setLevel(logging.INFO)\n",
    "ACCESS_TOKEN = 'WUpGevbWC9lsnTW8quNUtmWRdAEM89'"
   ]
  },
  {
   "cell_type": "markdown",
   "metadata": {},
   "source": [
    "Set up the task details. This notebook handles NER (for labeling person and company names)"
   ]
  },
  {
   "cell_type": "code",
   "execution_count": null,
   "metadata": {},
   "outputs": [],
   "source": [
    "DATASET = 'omf-paystubs' # supports w2 and resume\n",
    "TASK_CONFIG = {\n",
    "    'task': 'cmp_name',\n",
    "}\n",
    "\n",
    "task = Task(TASK_CONFIG)"
   ]
  },
  {
   "cell_type": "markdown",
   "metadata": {},
   "source": [
    "Set paths for datasets and goldens (local or ib, both work).\n",
    "Specify configurations"
   ]
  },
  {
   "cell_type": "code",
   "execution_count": null,
   "metadata": {
    "tags": []
   },
   "outputs": [],
   "source": [
    "OMF_DATA = [\n",
    "    'ib_sales/OMF/fs/Instabase%20Drive/test/other-paystubs/Batch1/out/s3_map_records/',\n",
    "    # 'ib_sales/OMF/fs/Instabase%20Drive/test/other-paystubs/Batch2/out/s3_map_records/',\n",
    "    # 'ib_sales/OMF/fs/Instabase%20Drive/test/other-paystubs/Batch3/out/s1_process_files/',\n",
    "    # 'ib_sales/OMF/fs/Instabase%20Drive/test/other-paystubs/Batch4/out/s1_process_files/'\n",
    "]\n",
    "OMF_GOLDEN = [\n",
    "    './omf_batch_1.csv',\n",
    "    # './omf_batch_2.csv',\n",
    "    # './omf_batch_3.csv',\n",
    "    # './omf_batch_4.csv'\n",
    "]\n",
    "\n",
    "GOLDEN_CONFIG = {\n",
    "    'path': OMF_GOLDEN,\n",
    "    'is_local': True,\n",
    "    'index_field_name':'filename',\n",
    "    'file_type': 'csv',\n",
    "    'identifier': 'file'\n",
    "}\n",
    "DATASET_CONFIG = {\n",
    "    'path': OMF_DATA,\n",
    "    'is_local': False, \n",
    "    'file_type': 'ibdoc',\n",
    "    'identifier': lambda path: os.path.basename(path).split('.ibdoc')[0],\n",
    "    'convert2txt': False\n",
    "}\n",
    "\n",
    "\n",
    "data = DataCuration(ACCESS_TOKEN, DATASET_CONFIG, GOLDEN_CONFIG)"
   ]
  },
  {
   "cell_type": "code",
   "execution_count": null,
   "metadata": {
    "tags": []
   },
   "outputs": [],
   "source": [
    "# ToDo: add ModelSelection() hyperparameter search in the framework\n",
    "\n",
    "DATA_ARGS = {\n",
    "    'task': task,\n",
    "    'dataset': data,\n",
    "     'candidates_fields': {\n",
    "        'person':'employee_name',\n",
    "        'org':'employer_name'\n",
    "    },\n",
    "    'data_config': {\n",
    "        'max_num_tokens': 5,\n",
    "        'max_token_distance': None,\n",
    "        'embedding_type': 'bert',\n",
    "        'cardinal_only': False,\n",
    "        'balance_targets': True,\n",
    "        'additional_features': [],\n",
    "        'pre_processing': ['lower_case', 'remove_punc']\n",
    "    }\n",
    "}\n",
    "\n",
    "TRAINING_ARGS = {\n",
    "    'batch_size': 32,\n",
    "    'epochs': 25, \n",
    "}\n",
    "\n",
    "\n",
    "fe = FeatureEngineeringMultiLayerPerceptron(DATA_ARGS)\n",
    "samples = fe.create_train_test_data()\n",
    "print('Input shape: {}'.format(samples[0].shape))\n"
   ]
  },
  {
   "cell_type": "code",
   "execution_count": null,
   "metadata": {
    "tags": []
   },
   "outputs": [],
   "source": [
    "# Neural network\n",
    "model_architecture = Sequential()\n",
    "model_architecture.add(Dense(512, input_dim=samples[0].shape[1], activation='relu'))\n",
    "model_architecture.add(Dropout(0.5))\n",
    "model_architecture.add(Dense(128, activation='relu'))\n",
    "model_architecture.add(Dropout(0.5))\n",
    "model_architecture.add(Dense(1, activation='sigmoid'))\n",
    "model_architecture.compile(loss='binary_crossentropy', optimizer='adam', metrics=['accuracy'])\n",
    "\n",
    "model = MultiLayerPerceptron(DATA_ARGS, TRAINING_ARGS, model_architecture)"
   ]
  },
  {
   "cell_type": "code",
   "execution_count": null,
   "metadata": {
    "tags": []
   },
   "outputs": [],
   "source": [
    "model.train(*samples)\n",
    "acc = model.evaluate()\n",
    "logging.info(\"Accuracy is {}\".format(acc))"
   ]
  },
  {
   "cell_type": "code",
   "execution_count": null,
   "metadata": {
    "tags": []
   },
   "outputs": [],
   "source": [
    "found_companies = model.predict()\n",
    "print(found_companies)"
   ]
  },
  {
   "cell_type": "code",
   "execution_count": null,
   "metadata": {
    "tags": []
   },
   "outputs": [],
   "source": [
    "model.analyze_result(found_companies)\n",
    "model.demo()"
   ]
  },
  {
   "cell_type": "code",
   "execution_count": null,
   "metadata": {},
   "outputs": [],
   "source": []
  }
 ],
 "metadata": {
  "language_info": {
   "codemirror_mode": {
    "name": "ipython",
    "version": 3
   },
   "file_extension": ".py",
   "mimetype": "text/x-python",
   "name": "python",
   "nbconvert_exporter": "python",
   "pygments_lexer": "ipython3",
   "version": 3
  },
  "orig_nbformat": 2,
  "kernelspec": {
   "name": "python_defaultSpec_1596064358955",
   "display_name": "Python 3.7.3 64-bit ('3.7.3': pyenv)"
  }
 },
 "nbformat": 4,
 "nbformat_minor": 2
}