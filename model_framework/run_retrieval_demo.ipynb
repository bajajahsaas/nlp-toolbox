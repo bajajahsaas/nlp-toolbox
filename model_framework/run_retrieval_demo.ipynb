{
 "cells": [
  {
   "cell_type": "code",
   "execution_count": 46,
   "metadata": {
    "tags": []
   },
   "outputs": [],
   "source": [
    "import os\n",
    "import importlib\n",
    "import logging\n",
    "import time\n",
    "importlib.reload(logging)\n",
    "import framework\n",
    "importlib.reload(framework)\n",
    "import bert_qa\n",
    "importlib.reload(bert_qa)\n",
    "import infer_bert_qa\n",
    "importlib.reload(infer_bert_qa)\n",
    "import bert_utils\n",
    "importlib.reload(bert_utils)\n",
    "import pandas as pd\n",
    "from framework import DataCuration, FeatureEngineering, StringProcessing\n",
    "from retrieval import TaskRetrieval, FeatureEngineeringRetrieval, Retrieval\n",
    "\n",
    "# Define some constants and configurations\n",
    "logging.getLogger().setLevel(logging.INFO)\n",
    "ACCESS_TOKEN = 'WUpGevbWC9lsnTW8quNUtmWRdAEM89'"
   ]
  },
  {
   "cell_type": "markdown",
   "metadata": {},
   "source": [
    "Set up the task details. This notebook handles Document Retrieval for CARTA dataset.\n"
   ]
  },
  {
   "cell_type": "code",
   "execution_count": 47,
   "metadata": {},
   "outputs": [],
   "source": [
    "DATASET = 'carta' # supports w2 and resume\n",
    "TASK_CONFIG = {\n",
    "    'task': 'retrieval'\n",
    "}\n",
    "\n",
    "task = TaskRetrieval(TASK_CONFIG)"
   ]
  },
  {
   "cell_type": "markdown",
   "metadata": {},
   "source": [
    "Set paths for datasets and goldens (local or ib, both work).\n",
    "Specify configurations"
   ]
  },
  {
   "cell_type": "code",
   "execution_count": 48,
   "metadata": {
    "tags": []
   },
   "outputs": [
    {
     "output_type": "stream",
     "name": "stderr",
     "text": "INFO:root:Loading dataset from /ib_solutions/solutions/fs/Instabase%20Drive/poc/carta/Annotated%20Sample/out/s1_process_files/\nINFO:root:5 files loaded\n"
    }
   ],
   "source": [
    "CARTA_DATA = [\n",
    "    # should contain only a single document, since the huge doc will be split into many segments (each treated as a new doc for retrieval)\n",
    "#    '/Users/ahsaasbajaj/Documents/Data/QA_model/data'\n",
    "'/ib_solutions/solutions/fs/Instabase%20Drive/poc/carta/Annotated%20Sample/out/s1_process_files/'\n",
    "]\n",
    "\n",
    "DATASET_CONFIG = {\n",
    "    'path': CARTA_DATA,\n",
    "    'is_local': False, \n",
    "    'file_type': 'ibocr',\n",
    "    'identifier': lambda path: os.path.basename(path).split('.ibocr')[0],\n",
    "    'convert2txt': True\n",
    "}\n",
    "\n",
    "CARTA_GOLDEN = None\n",
    "GOLDEN_CONFIG = None\n",
    "\n",
    "data = DataCuration(ACCESS_TOKEN, DATASET_CONFIG, GOLDEN_CONFIG)"
   ]
  },
  {
   "cell_type": "code",
   "execution_count": 49,
   "metadata": {},
   "outputs": [
    {
     "output_type": "execute_result",
     "data": {
      "text/plain": "{'annotated_AOI_2.pdf': <instabase.ocr.client.libs.ibocr.ParsedIBOCR at 0x15796c198>,\n 'annotated_AOI_3.pdf': <instabase.ocr.client.libs.ibocr.ParsedIBOCR at 0x15e6bd4e0>,\n 'annotated_AOI_4.pdf': <instabase.ocr.client.libs.ibocr.ParsedIBOCR at 0x15eb7e5c0>,\n 'annotated_AOI_5.pdf': <instabase.ocr.client.libs.ibocr.ParsedIBOCR at 0x15ef135f8>}"
     },
     "metadata": {},
     "execution_count": 49
    }
   ],
   "source": [
    "data.dataset"
   ]
  },
  {
   "cell_type": "code",
   "execution_count": 55,
   "metadata": {
    "tags": []
   },
   "outputs": [
    {
     "output_type": "stream",
     "name": "stderr",
     "text": "INFO:root:Total pages in file: 20\nfilename to split and query:  annotated_AOI_4.pdf\nINFO:root:Total Corpus Size 247 docs\n"
    }
   ],
   "source": [
    "filename = 'annotated_AOI_4.pdf'\n",
    "print('filename to split and query: ', filename)\n",
    "\n",
    "query = \"Preferred Stocks\"\n",
    "\n",
    "NUM_FILES = len(data.dataset.keys())\n",
    "stime = time.time()\n",
    "\n",
    "DATA_ARGS = {\n",
    "    'task': task,\n",
    "    'dataset': data\n",
    "}\n",
    "\n",
    "TRAINING_ARGS = {\n",
    "'model_file_or_path': \"BM25Okapi\"\n",
    "}\n",
    "\n",
    "fe = FeatureEngineeringRetrieval(DATA_ARGS)\n",
    "\n",
    "corpus, doc_to_id_map, doc_to_pageNumber_map = fe.split_doc(filename=filename, split_size=100)  # list of document segments\n"
   ]
  },
  {
   "cell_type": "code",
   "execution_count": 56,
   "metadata": {},
   "outputs": [
    {
     "output_type": "execute_result",
     "data": {
      "text/plain": "247"
     },
     "metadata": {},
     "execution_count": 56
    }
   ],
   "source": [
    "len(corpus)"
   ]
  },
  {
   "cell_type": "code",
   "execution_count": 57,
   "metadata": {
    "tags": []
   },
   "outputs": [
    {
     "output_type": "stream",
     "name": "stderr",
     "text": "INFO:root:Scores available for 247 docs\nINFO:root:Total time 1.6187570095062256 seconds\n"
    }
   ],
   "source": [
    "tokenized_corpus = fe.tokenize_corpus(corpus)\n",
    "\n",
    "model = Retrieval(DATA_ARGS, TRAINING_ARGS)\n",
    "model.train(corpus, tokenized_corpus, doc_to_id_map, doc_to_pageNumber_map)\n",
    "output, scores, top_pageNumbers = model.predict(query, len_results=5)\n",
    "\n",
    "etime = time.time()\n",
    "logging.info('Total time {} seconds'.format(etime - stime))"
   ]
  },
  {
   "cell_type": "code",
   "execution_count": 58,
   "metadata": {},
   "outputs": [],
   "source": [
    "# output"
   ]
  },
  {
   "cell_type": "code",
   "execution_count": 59,
   "metadata": {
    "tags": []
   },
   "outputs": [
    {
     "output_type": "stream",
     "name": "stdout",
     "text": "Ranked Item 1 Matching score: 1.64, Page Number: 4\nPrices Certificate\" the \"Original Issue Price\" shall mean $0.795 per share for holders of Series Seed Preferred Stock, $1.3049 per share forholders of Series A Preferred Stock and $2.3199 for holders of Series A-1 Preferred Stock (each asadjusted for any stock dividends, stocksplits, stock combinations, recapitalizations orsimilar events withrespect tosuch shares) \n\nRanked Item 2 Matching score: 1.64, Page Number: 8\nThe \"Conversion Price\" for each series of Preferred Stock shall initially mean the Original Issue Price for such series of Preferred Stock. \n\nRanked Item 3 Matching score: 1.61, Page Number: 6\nIf any such holder shall be deemed to have converted such shares of Preferred Stock into Common Stock pursuant to this paragraph, then such holder shall not be entitled to receive any distribution that would otherwise be made to holders of the Series Seed Preferred Stock, Series A Preferred Stock or Series A-1 Preferred Stock (as applicable) that have not converted (or have not been deemed to have converted) into shares of Common Stock. \n\nRanked Item 4 Matching score: 1.53, Page Number: 8\nEach share of Preferred Stock \n\nRanked Item 5 Matching score: 1.53, Page Number: 3\nThe Preferred Stock shall be divided into series. \n\n"
    }
   ],
   "source": [
    "idx = 1\n",
    "for doc, score, page_num in zip(output, scores, top_pageNumbers):\n",
    "    print('Ranked Item {0} Matching score: {1:0.2f}, Page Number: {2}'.format(idx, score, page_num))\n",
    "    clean_output = \" \".join(doc.split())\n",
    "    print(clean_output, '\\n')\n",
    "    idx += 1"
   ]
  },
  {
   "cell_type": "code",
   "execution_count": null,
   "metadata": {},
   "outputs": [],
   "source": []
  }
 ],
 "metadata": {
  "language_info": {
   "codemirror_mode": {
    "name": "ipython",
    "version": 3
   },
   "file_extension": ".py",
   "mimetype": "text/x-python",
   "name": "python",
   "nbconvert_exporter": "python",
   "pygments_lexer": "ipython3",
   "version": 3
  },
  "orig_nbformat": 2,
  "kernelspec": {
   "name": "python_defaultSpec_1597994066838",
   "display_name": "Python 3.7.3 64-bit ('3.7.3': pyenv)"
  }
 },
 "nbformat": 4,
 "nbformat_minor": 2
}