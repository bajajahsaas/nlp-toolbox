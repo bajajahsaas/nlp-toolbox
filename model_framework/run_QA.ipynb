{
 "cells": [
  {
   "cell_type": "code",
   "execution_count": null,
   "metadata": {
    "tags": []
   },
   "outputs": [],
   "source": [
    "import os\n",
    "import importlib\n",
    "import logging\n",
    "import time\n",
    "importlib.reload(logging)\n",
    "import framework\n",
    "importlib.reload(framework)\n",
    "import bert_qa\n",
    "importlib.reload(bert_qa)\n",
    "import infer_bert_qa\n",
    "importlib.reload(infer_bert_qa)\n",
    "import bert_utils\n",
    "importlib.reload(bert_utils)\n",
    "import pandas as pd\n",
    "from framework import DataCuration, FeatureEngineering\n",
    "from bert_qa import TaskQA, FeatureEngineeringQA, BERTQA\n",
    "from bert_maskedLM import BERTMaskedLM\n",
    "\n",
    "# Define some constants and configurations\n",
    "logging.getLogger().setLevel(logging.INFO)\n",
    "ACCESS_TOKEN = 'WUpGevbWC9lsnTW8quNUtmWRdAEM89'"
   ]
  },
  {
   "cell_type": "markdown",
   "metadata": {},
   "source": [
    "Set up the task details. This notebook handles Question Answering for CARTA dataset.\n",
    "\n",
    "Example\n",
    "\n",
    "context = \"New Zealand (Māori: Aotearoa) is a sovereign island country in the southwestern Pacific Ocean. It has a total land area of 268,000 square kilometres (103,500 sq mi), and a population of 4.9 million. New Zealand's capital city is Wellington, and its most populous city is Auckland.\"\n",
    "\n",
    "questions = \"How many people live in New Zealand?\", \"What's the largest city?\"\n"
   ]
  },
  {
   "cell_type": "code",
   "execution_count": null,
   "metadata": {},
   "outputs": [],
   "source": [
    "DATASET = 'carta' # supports w2 and resume\n",
    "TASK_CONFIG = {\n",
    "    'task': 'qa'\n",
    "}\n",
    "\n",
    "task = TaskQA(TASK_CONFIG)"
   ]
  },
  {
   "cell_type": "markdown",
   "metadata": {},
   "source": [
    "Set paths for datasets and goldens (local or ib, both work).\n",
    "Specify configurations"
   ]
  },
  {
   "cell_type": "code",
   "execution_count": null,
   "metadata": {
    "tags": []
   },
   "outputs": [],
   "source": [
    "CARTA_DATA = [\n",
    "   '/Users/ahsaasbajaj/Documents/Data/CARTA/Annotated Samples/out/s1_process_files'\n",
    "]\n",
    "CARTA_GOLDEN = [\n",
    "   '/Users/ahsaasbajaj/Documents/Data/CARTA/Annotated Samples/golden/output.csv'\n",
    "]\n",
    "\n",
    "GOLDEN_CONFIG = {\n",
    "    'path': CARTA_GOLDEN,\n",
    "    'is_local': True,\n",
    "    'index_field_name':'filename',\n",
    "    'file_type': 'csv',\n",
    "    'identifier': 'file'\n",
    "}\n",
    "DATASET_CONFIG = {\n",
    "    'path': CARTA_DATA,\n",
    "    'is_local': True, \n",
    "    'file_type': 'ibocr',\n",
    "    'identifier': lambda path: os.path.basename(path).split('.ibocr')[0],\n",
    "    'convert2txt': True\n",
    "}\n",
    "\n",
    "data = DataCuration(ACCESS_TOKEN, DATASET_CONFIG, GOLDEN_CONFIG)"
   ]
  },
  {
   "cell_type": "code",
   "execution_count": null,
   "metadata": {},
   "outputs": [],
   "source": [
    "data.golden"
   ]
  },
  {
   "cell_type": "code",
   "execution_count": null,
   "metadata": {},
   "outputs": [],
   "source": [
    "open_queries = [ \n",
    "                \"Who is incorporating the company?\",\n",
    "                \"How many shares are being created?\",\n",
    "                \"What are the number of authorized shares?\",\n",
    "                \"What are the Preferred stocks?\",\n",
    "                \"What are the Non-cumulative dividends?\",\n",
    "                \"What are the Common stocks?\",\n",
    "                \"What is the Dividend rate per annum per preferred share type?\",\n",
    "                \"What is the original issue price per share?\",\n",
    "                \"What is the seniority of preferred share?\",\n",
    "                \"What is the liquidation preference?\",\n",
    "                \"What is the conversion price\"\n",
    "                ]\n",
    "\n",
    "closed_queries = [ \n",
    "                \"The company is incorporated by\",\n",
    "                \"The number of shares being created are\",\n",
    "                \"The common stocks are\",\n",
    "                \"The Preferred stocks are\",\n",
    "                \"The Non-cumulative dividends are\",\n",
    "                \"The Dividend rate per annum per preferred share type are\",\n",
    "                \"The number of authorized shares are\",\n",
    "                \"The Original Issue Price per share is\",\n",
    "                \"The Liquidation preference is\"\n",
    "                ]"
   ]
  },
  {
   "cell_type": "code",
   "execution_count": null,
   "metadata": {
    "tags": []
   },
   "outputs": [],
   "source": [
    "NUM_FILES = len(data.dataset.keys())\n",
    "stime = time.time()\n",
    "\n",
    "DATA_ARGS = {\n",
    "    'task': task,\n",
    "    'dataset': data,\n",
    "    'is_closed_query': False  # if False, then use BERTQA, otherwise use BERTMaskedLM \n",
    "}\n",
    "\n",
    "queries = None\n",
    "\n",
    "if DATA_ARGS['is_closed_query']:\n",
    "    # Question Answering using Masked Language Model \n",
    "    queries = closed_queries\n",
    "    queries = open_queries\n",
    "    TRAINING_ARGS = {\n",
    "    'model_file_or_path': \"bert-large-uncased\", # finetuned checkpoint available directly\n",
    "    'gpu': False,\n",
    "    'output_dir': '../outputs/bert_maskedLM'\n",
    "    }\n",
    "\n",
    "    model = BERTMaskedLM(DATA_ARGS, TRAINING_ARGS)\n",
    "    output = model.predict(queries)\n",
    "else:\n",
    "    # Standard Question Answering Model\n",
    "    queries = open_queries\n",
    "    TRAINING_ARGS = {\n",
    "    'model_file_or_path': \"bert-large-uncased-whole-word-masking-finetuned-squad\", # finetuned checkpoint available directly\n",
    "    'gpu': False,\n",
    "    'output_dir': '../outputs/bert_qa'\n",
    "    }\n",
    "\n",
    "    model = BERTQA(DATA_ARGS, TRAINING_ARGS)\n",
    "    output = model.predict(queries)\n",
    "\n",
    "etime = time.time()\n",
    "logging.info('Total time for {} files and {} queries each is {} seconds'.format(NUM_FILES, len(queries), (etime - stime)))"
   ]
  },
  {
   "cell_type": "code",
   "execution_count": null,
   "metadata": {},
   "outputs": [],
   "source": []
  }
 ],
 "metadata": {
  "language_info": {
   "codemirror_mode": {
    "name": "ipython",
    "version": 3
   },
   "file_extension": ".py",
   "mimetype": "text/x-python",
   "name": "python",
   "nbconvert_exporter": "python",
   "pygments_lexer": "ipython3",
   "version": 3
  },
  "orig_nbformat": 2,
  "kernelspec": {
   "name": "python_defaultSpec_1596157160996",
   "display_name": "Python 3.7.3 64-bit ('3.7.3': pyenv)"
  }
 },
 "nbformat": 4,
 "nbformat_minor": 2
}