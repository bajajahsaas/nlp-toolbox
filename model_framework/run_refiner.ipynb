{
 "cells": [
  {
   "cell_type": "markdown",
   "metadata": {},
   "source": [
    "# Evaluate Refiner Outputs\n",
    "- This notebook takes refiner outputs and computes evaluation metrics (recall, precision, F1) for extraction of person, company names\n",
    "\n",
    "Final Intern presentation: https://docs.google.com/presentation/d/10mXA7K5sa_nAkqx2onsIfrH3TPj2Ni4LfCOxDhN5XBI/edit?usp=sharing\n"
   ]
  },
  {
   "cell_type": "code",
   "execution_count": 28,
   "metadata": {
    "tags": []
   },
   "outputs": [],
   "source": [
    "import os\n",
    "import importlib\n",
    "import logging\n",
    "importlib.reload(logging)\n",
    "import framework\n",
    "importlib.reload(framework)\n",
    "import refiner\n",
    "importlib.reload(refiner)\n",
    "import infer_bert_classifier\n",
    "importlib.reload(infer_bert_classifier)\n",
    "import bert_utils\n",
    "importlib.reload(bert_utils)\n",
    "import pandas as pd\n",
    "import webbrowser\n",
    "from framework import DataCuration\n",
    "from refiner import Refiner, TaskNER\n",
    "\n",
    "# Define some constants and configurations\n",
    "logging.getLogger().setLevel(logging.INFO)\n",
    "ACCESS_TOKEN = 'WUpGevbWC9lsnTW8quNUtmWRdAEM89'"
   ]
  },
  {
   "cell_type": "markdown",
   "metadata": {},
   "source": [
    "## Specify Task\n",
    "- Mention configurations of the task and create a task object"
   ]
  },
  {
   "cell_type": "code",
   "execution_count": 29,
   "metadata": {},
   "outputs": [],
   "source": [
    "DATASET = 'w2' # supports w2 and resume\n",
    "TASK_CONFIG = {\n",
    "    'task': 'ner',\n",
    "    'num_labels': 3,\n",
    "    'labels_dict': {'person' : 0, 'org' : 1, 'none': 2}\n",
    "}\n",
    "\n",
    "task = TaskNER(TASK_CONFIG)"
   ]
  },
  {
   "cell_type": "markdown",
   "metadata": {},
   "source": [
    "## Curate dataset\n",
    "- Specify paths for dataset and goldens (if available). Paths can be local or from instabase drives (use *is_local*). \n",
    "- Also specify configurations like extensions, column names to use as index. \n",
    "- Currently supports csv format for goldens, ibocr/ibdoc for dataset. \n",
    "- Use *context2txt* to extract and store raw texts. \n",
    "- This block creates a object of DataCuration() which maps goldens with the dataset and removes any mismatches, generates 1:1 mapping. \n",
    "- This object can be queried using *data.golden* or *data.dataset* or *data.dataset.texts* based on requirement\n",
    "\n",
    "### Files:\n",
    "- Download documents (ibocr or ibdoc files) after running flow on raw files here https://dogfood.instabase.com/dlluncor/lending-club/fs/Instabase%20Drive/workspace-us-markets/w2/data-500/input/. Use s2_map_records\n",
    "- Sample flow outputs and processed goldens here: https://drive.google.com/drive/folders/1h1eHP1Jy8FmRoCehfKQ9dblIwJ8OEmwC?usp=sharing. Download and specify local directory path in code below and set *is_local* = True\n",
    "- Alternatively, specify instabase drive paths and set *is_local* as False"
   ]
  },
  {
   "cell_type": "code",
   "execution_count": 30,
   "metadata": {
    "tags": []
   },
   "outputs": [
    {
     "output_type": "stream",
     "name": "stderr",
     "text": "INFO:root:Loading dataset from /Users/ahsaasbajaj/Documents/Data/w2-instabase/flow/s2_map_records\nINFO:root:142 files loaded\nINFO:root:Converting IBOCR/IBDOC to raw texts\nINFO:root:Loading goldens from /Users/ahsaasbajaj/Documents/Data/w2-instabase/golden/goldens.csv\nINFO:root:Total files Goldens: (154, 25)\nINFO:root:Total files found in the source with unique index: (142, 25)\n"
    }
   ],
   "source": [
    "W2_DATA = [\n",
    "   '/Users/ahsaasbajaj/Documents/Data/w2-instabase/flow/s2_map_records'\n",
    "]\n",
    "W2_GOLDEN = [\n",
    "   '/Users/ahsaasbajaj/Documents/Data/w2-instabase/golden/goldens.csv'\n",
    "]\n",
    "\n",
    "GOLDEN_CONFIG = {\n",
    "    'path': W2_GOLDEN,\n",
    "    'is_local': True,\n",
    "    'index_field_name':'filename',\n",
    "    'file_type': 'csv',\n",
    "    'identifier': 'file'\n",
    "}\n",
    "DATASET_CONFIG = {\n",
    "    'path': W2_DATA,\n",
    "    'is_local': True, \n",
    "    'file_type': 'ibocr',\n",
    "    'identifier': lambda path: os.path.basename(path).split('.ibocr')[0],\n",
    "    'convert2txt': True\n",
    "}\n",
    "\n",
    "data = DataCuration(ACCESS_TOKEN, DATASET_CONFIG, GOLDEN_CONFIG)"
   ]
  },
  {
   "cell_type": "markdown",
   "metadata": {},
   "source": [
    "### Print Goldens"
   ]
  },
  {
   "cell_type": "code",
   "execution_count": 31,
   "metadata": {},
   "outputs": [
    {
     "output_type": "execute_result",
     "data": {
      "text/plain": "                               employee_ssn  box5_medicare_wages  \\\nfilename                                                           \nlast_year_w2_1493334985571.PDF  561-87-0728             36505.83   \nlast_year_w2_1493334989467.PDF  408-31-3195             51350.25   \nlast_year_w2_1493334998968.PDF  261-77-1595            105916.49   \nlast_year_w2_1493335006405.PDF  452-93-6475             35987.53   \nlast_year_w2_1493752474038.PDF  365-04-7683             85245.86   \n\n                                box3_ss_wage  box6_medicare_withholding  \\\nfilename                                                                  \nlast_year_w2_1493334985571.PDF      36505.83                     529.33   \nlast_year_w2_1493334989467.PDF      51350.25                     744.58   \nlast_year_w2_1493334998968.PDF     105916.49                    1535.82   \nlast_year_w2_1493335006405.PDF      35987.53                     521.82   \nlast_year_w2_1493752474038.PDF      85245.86                    1236.06   \n\n                                box4_ss_withholding  box2_fed_withhold  \\\nfilename                                                                 \nlast_year_w2_1493334985571.PDF              2263.36            4093.92   \nlast_year_w2_1493334989467.PDF              3183.72            6940.69   \nlast_year_w2_1493334998968.PDF              6566.82           24471.02   \nlast_year_w2_1493335006405.PDF              2231.23            2814.31   \nlast_year_w2_1493752474038.PDF              5285.24           13629.89   \n\n                               box17_state_income_tax  box1_wage  \\\nfilename                                                           \nlast_year_w2_1493334985571.PDF                 519.22   36505.83   \nlast_year_w2_1493334989467.PDF                    NaN   47242.23   \nlast_year_w2_1493334998968.PDF                    NaN  105916.49   \nlast_year_w2_1493335006405.PDF                    NaN   35987.53   \nlast_year_w2_1493752474038.PDF                3129.87   77722.96   \n\n                                box8_allocated_tips          box14_other  ...  \\\nfilename                                                                  ...   \nlast_year_w2_1493334985571.PDF                  NaN           [\"328.55\"]  ...   \nlast_year_w2_1493334989467.PDF                  NaN                  NaN  ...   \nlast_year_w2_1493334998968.PDF                  NaN                  NaN  ...   \nlast_year_w2_1493335006405.PDF                  NaN                  NaN  ...   \nlast_year_w2_1493752474038.PDF                  NaN  [\"2069.50\", \"9.00\"]  ...   \n\n                               box12c_amount  box12d_code box12d_amount  \\\nfilename                                                                  \nlast_year_w2_1493334985571.PDF           NaN          NaN           NaN   \nlast_year_w2_1493334989467.PDF           NaN          NaN           NaN   \nlast_year_w2_1493334998968.PDF           NaN          NaN           NaN   \nlast_year_w2_1493335006405.PDF           NaN          NaN           NaN   \nlast_year_w2_1493752474038.PDF      10815.96          NaN           NaN   \n\n                                employer_federal_ein document_type  \\\nfilename                                                             \nlast_year_w2_1493334985571.PDF           01-0726495             W2   \nlast_year_w2_1493334989467.PDF           06-1102358             W2   \nlast_year_w2_1493334998968.PDF            36-4248787            W2   \nlast_year_w2_1493335006405.PDF           74-2482708             W2   \nlast_year_w2_1493752474038.PDF           75-2778918             W2   \n\n                                template_name  \\\nfilename                                        \nlast_year_w2_1493334985571.PDF     general_w2   \nlast_year_w2_1493334989467.PDF     general_w2   \nlast_year_w2_1493334998968.PDF     general_w2   \nlast_year_w2_1493335006405.PDF     general_w2   \nlast_year_w2_1493752474038.PDF     general_w2   \n\n                                                                  employer_name  \\\nfilename                                                                          \nlast_year_w2_1493334985571.PDF                                 BROKER SOLUTIONS   \nlast_year_w2_1493334989467.PDF                            FORMAN INDUSTRIES INC   \nlast_year_w2_1493334998968.PDF  YASH-LUJAN CONSULTING INC Y & L CONSULTING, INC   \nlast_year_w2_1493335006405.PDF                  TECO-WESTINGHOUSE MOTOR COMPANY   \nlast_year_w2_1493752474038.PDF                                 FLOWSERVE US INC   \n\n                                   employee_name w2_year  gross_pay  \nfilename                                                             \nlast_year_w2_1493334985571.PDF  PATRICIA HEREDIA  2016.0   39105.41  \nlast_year_w2_1493334989467.PDF   THOMAS V. MOORE  2016.0   51350.25  \nlast_year_w2_1493334998968.PDF   STACY L STUMETZ  2016.0  110240.00  \nlast_year_w2_1493335006405.PDF      HENRY COTTLE  2016.0   43827.05  \nlast_year_w2_1493752474038.PDF  JASON ALLEN JERZ  2016.0   88420.20  \n\n[5 rows x 25 columns]",
      "text/html": "<div>\n<style scoped>\n    .dataframe tbody tr th:only-of-type {\n        vertical-align: middle;\n    }\n\n    .dataframe tbody tr th {\n        vertical-align: top;\n    }\n\n    .dataframe thead th {\n        text-align: right;\n    }\n</style>\n<table border=\"1\" class=\"dataframe\">\n  <thead>\n    <tr style=\"text-align: right;\">\n      <th></th>\n      <th>employee_ssn</th>\n      <th>box5_medicare_wages</th>\n      <th>box3_ss_wage</th>\n      <th>box6_medicare_withholding</th>\n      <th>box4_ss_withholding</th>\n      <th>box2_fed_withhold</th>\n      <th>box17_state_income_tax</th>\n      <th>box1_wage</th>\n      <th>box8_allocated_tips</th>\n      <th>box14_other</th>\n      <th>...</th>\n      <th>box12c_amount</th>\n      <th>box12d_code</th>\n      <th>box12d_amount</th>\n      <th>employer_federal_ein</th>\n      <th>document_type</th>\n      <th>template_name</th>\n      <th>employer_name</th>\n      <th>employee_name</th>\n      <th>w2_year</th>\n      <th>gross_pay</th>\n    </tr>\n    <tr>\n      <th>filename</th>\n      <th></th>\n      <th></th>\n      <th></th>\n      <th></th>\n      <th></th>\n      <th></th>\n      <th></th>\n      <th></th>\n      <th></th>\n      <th></th>\n      <th></th>\n      <th></th>\n      <th></th>\n      <th></th>\n      <th></th>\n      <th></th>\n      <th></th>\n      <th></th>\n      <th></th>\n      <th></th>\n      <th></th>\n    </tr>\n  </thead>\n  <tbody>\n    <tr>\n      <th>last_year_w2_1493334985571.PDF</th>\n      <td>561-87-0728</td>\n      <td>36505.83</td>\n      <td>36505.83</td>\n      <td>529.33</td>\n      <td>2263.36</td>\n      <td>4093.92</td>\n      <td>519.22</td>\n      <td>36505.83</td>\n      <td>NaN</td>\n      <td>[\"328.55\"]</td>\n      <td>...</td>\n      <td>NaN</td>\n      <td>NaN</td>\n      <td>NaN</td>\n      <td>01-0726495</td>\n      <td>W2</td>\n      <td>general_w2</td>\n      <td>BROKER SOLUTIONS</td>\n      <td>PATRICIA HEREDIA</td>\n      <td>2016.0</td>\n      <td>39105.41</td>\n    </tr>\n    <tr>\n      <th>last_year_w2_1493334989467.PDF</th>\n      <td>408-31-3195</td>\n      <td>51350.25</td>\n      <td>51350.25</td>\n      <td>744.58</td>\n      <td>3183.72</td>\n      <td>6940.69</td>\n      <td>NaN</td>\n      <td>47242.23</td>\n      <td>NaN</td>\n      <td>NaN</td>\n      <td>...</td>\n      <td>NaN</td>\n      <td>NaN</td>\n      <td>NaN</td>\n      <td>06-1102358</td>\n      <td>W2</td>\n      <td>general_w2</td>\n      <td>FORMAN INDUSTRIES INC</td>\n      <td>THOMAS V. MOORE</td>\n      <td>2016.0</td>\n      <td>51350.25</td>\n    </tr>\n    <tr>\n      <th>last_year_w2_1493334998968.PDF</th>\n      <td>261-77-1595</td>\n      <td>105916.49</td>\n      <td>105916.49</td>\n      <td>1535.82</td>\n      <td>6566.82</td>\n      <td>24471.02</td>\n      <td>NaN</td>\n      <td>105916.49</td>\n      <td>NaN</td>\n      <td>NaN</td>\n      <td>...</td>\n      <td>NaN</td>\n      <td>NaN</td>\n      <td>NaN</td>\n      <td>36-4248787</td>\n      <td>W2</td>\n      <td>general_w2</td>\n      <td>YASH-LUJAN CONSULTING INC Y &amp; L CONSULTING, INC</td>\n      <td>STACY L STUMETZ</td>\n      <td>2016.0</td>\n      <td>110240.00</td>\n    </tr>\n    <tr>\n      <th>last_year_w2_1493335006405.PDF</th>\n      <td>452-93-6475</td>\n      <td>35987.53</td>\n      <td>35987.53</td>\n      <td>521.82</td>\n      <td>2231.23</td>\n      <td>2814.31</td>\n      <td>NaN</td>\n      <td>35987.53</td>\n      <td>NaN</td>\n      <td>NaN</td>\n      <td>...</td>\n      <td>NaN</td>\n      <td>NaN</td>\n      <td>NaN</td>\n      <td>74-2482708</td>\n      <td>W2</td>\n      <td>general_w2</td>\n      <td>TECO-WESTINGHOUSE MOTOR COMPANY</td>\n      <td>HENRY COTTLE</td>\n      <td>2016.0</td>\n      <td>43827.05</td>\n    </tr>\n    <tr>\n      <th>last_year_w2_1493752474038.PDF</th>\n      <td>365-04-7683</td>\n      <td>85245.86</td>\n      <td>85245.86</td>\n      <td>1236.06</td>\n      <td>5285.24</td>\n      <td>13629.89</td>\n      <td>3129.87</td>\n      <td>77722.96</td>\n      <td>NaN</td>\n      <td>[\"2069.50\", \"9.00\"]</td>\n      <td>...</td>\n      <td>10815.96</td>\n      <td>NaN</td>\n      <td>NaN</td>\n      <td>75-2778918</td>\n      <td>W2</td>\n      <td>general_w2</td>\n      <td>FLOWSERVE US INC</td>\n      <td>JASON ALLEN JERZ</td>\n      <td>2016.0</td>\n      <td>88420.20</td>\n    </tr>\n  </tbody>\n</table>\n<p>5 rows × 25 columns</p>\n</div>"
     },
     "metadata": {},
     "execution_count": 31
    }
   ],
   "source": [
    "data.golden.head()"
   ]
  },
  {
   "cell_type": "markdown",
   "metadata": {},
   "source": [
    "\n",
    "## Modeling (Pre-Generated Refiner Output)\n",
    "- Specify DATA_ARGS which includes the task and data objects created beforehand\n",
    "- Mention fields of interest (for extraction, classification) in DATA_ARGS\n",
    "\n",
    "### Output files\n",
    "- Load ouputs from refiner flow (after step 4 producing single out.ibocr)\n",
    "- Sample Outputs here: https://drive.google.com/drive/folders/1zzq8cM2i2Ek_9T8fTmlgbBF45ZZxjYYX?usp=sharing\n",
    "- Download the above files and edit path in *model_file_or_path* of TRAINING_ARGS\n",
    "\n",
    "### Specify TRAINING_ARGS\n",
    "- Specify path to refiner results above\n",
    "- Mention the number of labels (in case of multi-label classification)\n",
    "\n",
    "### Specify field to evaluate in *MODELS_TO_EVAL*\n"
   ]
  },
  {
   "cell_type": "code",
   "execution_count": 32,
   "metadata": {
    "tags": []
   },
   "outputs": [],
   "source": [
    "W2_REFINER_RESULT_PATH = '/Users/ahsaasbajaj/Documents/Data/refiner_results/w2.ibocr'\n",
    "RESUME_REFINER_RESULT_PATH = '/Users/ahsaasbajaj/Documents/Data/refiner_results/resume.ibocr'\n",
    "\n",
    "DATA_ARGS = {\n",
    "    'task': task,\n",
    "    'dataset': data,\n",
    "    'candidates_fields': {\n",
    "        'person':'employee_name',\n",
    "        'org':'employer_name'\n",
    "    }\n",
    "}\n",
    "TRAINING_ARGS = {\n",
    "    'model_file_or_path' : W2_REFINER_RESULT_PATH,\n",
    "    'num_labels': TASK_CONFIG['num_labels'],\n",
    "}\n",
    "\n",
    "MODELS_TO_EVAL = {\n",
    "    'models': ['names_vontell', 'names_token_matcher'],\n",
    "    'spacy_models': ['names_spacy', 'org_spacy'],\n",
    "\n",
    "    'person_name_models': ['names_vontell', 'names_token_matcher', 'names_spacy'],\n",
    "    'org_name_models': ['org_spacy'],\n",
    "}\n",
    "\n",
    "model = Refiner(DATA_ARGS, TRAINING_ARGS, MODELS_TO_EVAL)"
   ]
  },
  {
   "cell_type": "markdown",
   "metadata": {},
   "source": [
    "## Evaluation\n",
    "- Use *model.analyze_result()* to compares predictions with goldens.\n",
    "- Also calculates metrics like Recall, Precision, F1 score"
   ]
  },
  {
   "cell_type": "code",
   "execution_count": 33,
   "metadata": {
    "tags": []
   },
   "outputs": [
    {
     "output_type": "stream",
     "name": "stderr",
     "text": "INFO:root:\nPerson Name Scores\nINFO:root:For model names_vontell, recall: 0.7465, precision: 0.4180, F1: 0.5359 \nINFO:root:For model names_token_matcher, recall: 0.6549, precision: 0.4602, F1: 0.5405 \nINFO:root:For model names_spacy, recall: 0.0915, precision: 0.0034, F1: 0.0066 \nINFO:root:\nOrg Name Scores\nINFO:root:For model org_spacy, recall: 0.0775, precision: 0.0012, F1: 0.0023 \ndict_keys(['person', 'org'])\ndict_keys(['names_vontell', 'names_token_matcher', 'names_spacy'])\n"
    }
   ],
   "source": [
    "results = model.analyze_results()\n",
    "print(results.keys())\n",
    "print(results['person'].keys())\n",
    "# print(results['person']['names_vontell'].keys())"
   ]
  },
  {
   "cell_type": "code",
   "execution_count": 34,
   "metadata": {
    "tags": []
   },
   "outputs": [],
   "source": [
    "# data.dataset.keys()"
   ]
  },
  {
   "cell_type": "markdown",
   "metadata": {},
   "source": [
    "## DEMO\n",
    "- Specify local path of PDFs to run a quick DEMO\n",
    "- Use DEMO_FILE from the ones samples in data.dataset.keys() (and paste in the block below)\n",
    "- This print the extracted person and company names as per refiner outputs"
   ]
  },
  {
   "cell_type": "code",
   "execution_count": 35,
   "metadata": {
    "tags": []
   },
   "outputs": [
    {
     "output_type": "execute_result",
     "data": {
      "text/plain": "True"
     },
     "metadata": {},
     "execution_count": 35
    }
   ],
   "source": [
    "DIR_PATH = '/Users/ahsaasbajaj/Documents/Data/w2-instabase/pdf'\n",
    "DEMO_FILE = 'last_year_w2_1494607092402.PDF'\n",
    "\n",
    "FILE_PATH = DIR_PATH + '/' + DEMO_FILE \n",
    "webbrowser.open_new(r'file:' + FILE_PATH)"
   ]
  },
  {
   "cell_type": "code",
   "execution_count": 36,
   "metadata": {
    "tags": []
   },
   "outputs": [
    {
     "output_type": "stream",
     "name": "stderr",
     "text": "INFO:root:golden person: CHRISTINA A MEWIS\nINFO:root:golden company: EVELYN BAIRD GENTRY CORP DBA CAPP ELECTR\nINFO:root:Field type: person\nINFO:root:model type: names_vontell\nINFO:root:{'CHRISTINA A MEWIS', 'EVELYN BAIRD GENTRY'}\nINFO:root:\n\nINFO:root:model type: names_token_matcher\nINFO:root:{'BAIRD GENTRY', 'BAIRD GENTRY CORP', 'EVELYN BAIRD', 'EVELYN BAIRD GENTRY'}\nINFO:root:\n\nINFO:root:model type: names_spacy\nINFO:root:{'Suff', '61071.57', '017128671', 'W2 B', 'DD', \"Employer's\", 'Filed', 'CHRISTINA', 'Dependent', 'Wage'}\nINFO:root:\n\nINFO:root:\n\nINFO:root:Field type: org\nINFO:root:model type: org_spacy\nINFO:root:{'Safe', 'TX', 'Medicare', 'EVELYN', '7 Social', '2', 'BAIRD GENTRY CORP', 'Tax 2016', 'the Treasury- Internal Revenue Service Form Statement Copy B-', 'Department', \"Employee's\", 'Employee', 'HOUSTON', 'EIN', 'the Internal Revenue Service'}\nINFO:root:\n\nINFO:root:\n\n"
    }
   ],
   "source": [
    "model.demo(results, DEMO_FILE)"
   ]
  }
 ],
 "metadata": {
  "language_info": {
   "codemirror_mode": {
    "name": "ipython",
    "version": 3
   },
   "file_extension": ".py",
   "mimetype": "text/x-python",
   "name": "python",
   "nbconvert_exporter": "python",
   "pygments_lexer": "ipython3",
   "version": "3.7.3-final"
  },
  "orig_nbformat": 2,
  "kernelspec": {
   "name": "python_defaultSpec_1598385435460",
   "display_name": "Python 3.7.3 64-bit ('3.7.3': pyenv)"
  }
 },
 "nbformat": 4,
 "nbformat_minor": 2
}