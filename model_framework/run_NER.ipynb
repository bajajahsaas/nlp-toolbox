{
 "cells": [
  {
   "cell_type": "code",
   "execution_count": 1,
   "metadata": {
    "tags": []
   },
   "outputs": [
    {
     "output_type": "stream",
     "name": "stderr",
     "text": "Using TensorFlow backend.\n[nltk_data] Downloading package stopwords to\n[nltk_data]     /Users/ahsaasbajaj/nltk_data...\n[nltk_data]   Package stopwords is already up-to-date!\n[nltk_data] Downloading package stopwords to\n[nltk_data]     /Users/ahsaasbajaj/nltk_data...\n[nltk_data]   Package stopwords is already up-to-date!\n"
    }
   ],
   "source": [
    "import os\n",
    "import importlib\n",
    "import logging\n",
    "importlib.reload(logging)\n",
    "import framework\n",
    "importlib.reload(framework)\n",
    "import bert_ner\n",
    "importlib.reload(bert_ner)\n",
    "import infer_bert_classifier\n",
    "importlib.reload(infer_bert_classifier)\n",
    "import bert_utils\n",
    "importlib.reload(bert_utils)\n",
    "import pandas as pd\n",
    "import webbrowser\n",
    "from framework import DataCuration, FeatureEngineering\n",
    "from bert_ner import TaskNER, FeatureEngineeringNER, BERTNER\n",
    "\n",
    "# Define some constants and configurations\n",
    "logging.getLogger().setLevel(logging.INFO)\n",
    "ACCESS_TOKEN = 'WUpGevbWC9lsnTW8quNUtmWRdAEM89'"
   ]
  },
  {
   "cell_type": "markdown",
   "metadata": {},
   "source": [
    "## Set up the task details. This notebook handles NER (for labeling person and company names)"
   ]
  },
  {
   "cell_type": "code",
   "execution_count": 2,
   "metadata": {},
   "outputs": [],
   "source": [
    "DATASET = 'w2' # supports w2 and resume\n",
    "TASK_CONFIG = {\n",
    "    'task': 'ner',\n",
    "    'num_labels': 3,\n",
    "    'labels_dict': {'person' : 0, 'org' : 1, 'none': 2}\n",
    "}\n",
    "\n",
    "task = TaskNER(TASK_CONFIG)"
   ]
  },
  {
   "cell_type": "markdown",
   "metadata": {},
   "source": [
    "## Set paths for datasets and goldens (local or ib, both work).\n",
    "### Specify configurations"
   ]
  },
  {
   "cell_type": "code",
   "execution_count": 3,
   "metadata": {
    "tags": []
   },
   "outputs": [
    {
     "output_type": "stream",
     "name": "stderr",
     "text": "INFO:root:Loading dataset from /Users/ahsaasbajaj/Documents/Data/w2-instabase/flow/s2_map_records\nINFO:root:142 files loaded\nINFO:root:Loading goldens from /Users/ahsaasbajaj/Documents/Data/w2-instabase/golden/goldens.csv\nINFO:root:Total files Goldens: (154, 25)\nINFO:root:Total files found in the source with unique index: (142, 25)\nINFO:root:Processing 142 IBOCR files to txt\n"
    }
   ],
   "source": [
    "W2_DATA = [\n",
    "   '/Users/ahsaasbajaj/Documents/Data/w2-instabase/flow/s2_map_records'\n",
    "]\n",
    "W2_GOLDEN = [\n",
    "   '/Users/ahsaasbajaj/Documents/Data/w2-instabase/golden/goldens.csv'\n",
    "]\n",
    "\n",
    "GOLDEN_CONFIG = {\n",
    "    'path': W2_GOLDEN,\n",
    "    'is_local': True,\n",
    "    'index_field_name':'filename',\n",
    "    'file_type': 'csv',\n",
    "    'identifier': 'file'\n",
    "}\n",
    "DATASET_CONFIG = {\n",
    "    'path': W2_DATA,\n",
    "    'is_local': True, \n",
    "    'file_type': 'ibocr',\n",
    "    'identifier': lambda path: os.path.basename(path).split('.ibocr')[0],\n",
    "    'convert2txt': True\n",
    "}\n",
    "\n",
    "data = DataCuration(ACCESS_TOKEN, DATASET_CONFIG, GOLDEN_CONFIG)"
   ]
  },
  {
   "cell_type": "code",
   "execution_count": 19,
   "metadata": {},
   "outputs": [
    {
     "output_type": "execute_result",
     "data": {
      "text/plain": "                               employee_ssn  box5_medicare_wages  \\\nfilename                                                           \nlast_year_w2_1493334985571.PDF  561-87-0728             36505.83   \nlast_year_w2_1493334989467.PDF  408-31-3195             51350.25   \nlast_year_w2_1493334998968.PDF  261-77-1595            105916.49   \nlast_year_w2_1493335006405.PDF  452-93-6475             35987.53   \nlast_year_w2_1493752474038.PDF  365-04-7683             85245.86   \n\n                                box3_ss_wage  box6_medicare_withholding  \\\nfilename                                                                  \nlast_year_w2_1493334985571.PDF      36505.83                     529.33   \nlast_year_w2_1493334989467.PDF      51350.25                     744.58   \nlast_year_w2_1493334998968.PDF     105916.49                    1535.82   \nlast_year_w2_1493335006405.PDF      35987.53                     521.82   \nlast_year_w2_1493752474038.PDF      85245.86                    1236.06   \n\n                                box4_ss_withholding  box2_fed_withhold  \\\nfilename                                                                 \nlast_year_w2_1493334985571.PDF              2263.36            4093.92   \nlast_year_w2_1493334989467.PDF              3183.72            6940.69   \nlast_year_w2_1493334998968.PDF              6566.82           24471.02   \nlast_year_w2_1493335006405.PDF              2231.23            2814.31   \nlast_year_w2_1493752474038.PDF              5285.24           13629.89   \n\n                               box17_state_income_tax  box1_wage  \\\nfilename                                                           \nlast_year_w2_1493334985571.PDF                 519.22   36505.83   \nlast_year_w2_1493334989467.PDF                    NaN   47242.23   \nlast_year_w2_1493334998968.PDF                    NaN  105916.49   \nlast_year_w2_1493335006405.PDF                    NaN   35987.53   \nlast_year_w2_1493752474038.PDF                3129.87   77722.96   \n\n                                box8_allocated_tips          box14_other  ...  \\\nfilename                                                                  ...   \nlast_year_w2_1493334985571.PDF                  NaN           [\"328.55\"]  ...   \nlast_year_w2_1493334989467.PDF                  NaN                  NaN  ...   \nlast_year_w2_1493334998968.PDF                  NaN                  NaN  ...   \nlast_year_w2_1493335006405.PDF                  NaN                  NaN  ...   \nlast_year_w2_1493752474038.PDF                  NaN  [\"2069.50\", \"9.00\"]  ...   \n\n                               box12c_amount  box12d_code box12d_amount  \\\nfilename                                                                  \nlast_year_w2_1493334985571.PDF           NaN          NaN           NaN   \nlast_year_w2_1493334989467.PDF           NaN          NaN           NaN   \nlast_year_w2_1493334998968.PDF           NaN          NaN           NaN   \nlast_year_w2_1493335006405.PDF           NaN          NaN           NaN   \nlast_year_w2_1493752474038.PDF      10815.96          NaN           NaN   \n\n                                employer_federal_ein document_type  \\\nfilename                                                             \nlast_year_w2_1493334985571.PDF           01-0726495             W2   \nlast_year_w2_1493334989467.PDF           06-1102358             W2   \nlast_year_w2_1493334998968.PDF            36-4248787            W2   \nlast_year_w2_1493335006405.PDF           74-2482708             W2   \nlast_year_w2_1493752474038.PDF           75-2778918             W2   \n\n                                template_name  \\\nfilename                                        \nlast_year_w2_1493334985571.PDF     general_w2   \nlast_year_w2_1493334989467.PDF     general_w2   \nlast_year_w2_1493334998968.PDF     general_w2   \nlast_year_w2_1493335006405.PDF     general_w2   \nlast_year_w2_1493752474038.PDF     general_w2   \n\n                                                                  employer_name  \\\nfilename                                                                          \nlast_year_w2_1493334985571.PDF                                 BROKER SOLUTIONS   \nlast_year_w2_1493334989467.PDF                            FORMAN INDUSTRIES INC   \nlast_year_w2_1493334998968.PDF  YASH-LUJAN CONSULTING INC Y & L CONSULTING, INC   \nlast_year_w2_1493335006405.PDF                  TECO-WESTINGHOUSE MOTOR COMPANY   \nlast_year_w2_1493752474038.PDF                                 FLOWSERVE US INC   \n\n                                   employee_name w2_year  gross_pay  \nfilename                                                             \nlast_year_w2_1493334985571.PDF  PATRICIA HEREDIA  2016.0   39105.41  \nlast_year_w2_1493334989467.PDF   THOMAS V. MOORE  2016.0   51350.25  \nlast_year_w2_1493334998968.PDF   STACY L STUMETZ  2016.0  110240.00  \nlast_year_w2_1493335006405.PDF      HENRY COTTLE  2016.0   43827.05  \nlast_year_w2_1493752474038.PDF  JASON ALLEN JERZ  2016.0   88420.20  \n\n[5 rows x 25 columns]",
      "text/html": "<div>\n<style scoped>\n    .dataframe tbody tr th:only-of-type {\n        vertical-align: middle;\n    }\n\n    .dataframe tbody tr th {\n        vertical-align: top;\n    }\n\n    .dataframe thead th {\n        text-align: right;\n    }\n</style>\n<table border=\"1\" class=\"dataframe\">\n  <thead>\n    <tr style=\"text-align: right;\">\n      <th></th>\n      <th>employee_ssn</th>\n      <th>box5_medicare_wages</th>\n      <th>box3_ss_wage</th>\n      <th>box6_medicare_withholding</th>\n      <th>box4_ss_withholding</th>\n      <th>box2_fed_withhold</th>\n      <th>box17_state_income_tax</th>\n      <th>box1_wage</th>\n      <th>box8_allocated_tips</th>\n      <th>box14_other</th>\n      <th>...</th>\n      <th>box12c_amount</th>\n      <th>box12d_code</th>\n      <th>box12d_amount</th>\n      <th>employer_federal_ein</th>\n      <th>document_type</th>\n      <th>template_name</th>\n      <th>employer_name</th>\n      <th>employee_name</th>\n      <th>w2_year</th>\n      <th>gross_pay</th>\n    </tr>\n    <tr>\n      <th>filename</th>\n      <th></th>\n      <th></th>\n      <th></th>\n      <th></th>\n      <th></th>\n      <th></th>\n      <th></th>\n      <th></th>\n      <th></th>\n      <th></th>\n      <th></th>\n      <th></th>\n      <th></th>\n      <th></th>\n      <th></th>\n      <th></th>\n      <th></th>\n      <th></th>\n      <th></th>\n      <th></th>\n      <th></th>\n    </tr>\n  </thead>\n  <tbody>\n    <tr>\n      <th>last_year_w2_1493334985571.PDF</th>\n      <td>561-87-0728</td>\n      <td>36505.83</td>\n      <td>36505.83</td>\n      <td>529.33</td>\n      <td>2263.36</td>\n      <td>4093.92</td>\n      <td>519.22</td>\n      <td>36505.83</td>\n      <td>NaN</td>\n      <td>[\"328.55\"]</td>\n      <td>...</td>\n      <td>NaN</td>\n      <td>NaN</td>\n      <td>NaN</td>\n      <td>01-0726495</td>\n      <td>W2</td>\n      <td>general_w2</td>\n      <td>BROKER SOLUTIONS</td>\n      <td>PATRICIA HEREDIA</td>\n      <td>2016.0</td>\n      <td>39105.41</td>\n    </tr>\n    <tr>\n      <th>last_year_w2_1493334989467.PDF</th>\n      <td>408-31-3195</td>\n      <td>51350.25</td>\n      <td>51350.25</td>\n      <td>744.58</td>\n      <td>3183.72</td>\n      <td>6940.69</td>\n      <td>NaN</td>\n      <td>47242.23</td>\n      <td>NaN</td>\n      <td>NaN</td>\n      <td>...</td>\n      <td>NaN</td>\n      <td>NaN</td>\n      <td>NaN</td>\n      <td>06-1102358</td>\n      <td>W2</td>\n      <td>general_w2</td>\n      <td>FORMAN INDUSTRIES INC</td>\n      <td>THOMAS V. MOORE</td>\n      <td>2016.0</td>\n      <td>51350.25</td>\n    </tr>\n    <tr>\n      <th>last_year_w2_1493334998968.PDF</th>\n      <td>261-77-1595</td>\n      <td>105916.49</td>\n      <td>105916.49</td>\n      <td>1535.82</td>\n      <td>6566.82</td>\n      <td>24471.02</td>\n      <td>NaN</td>\n      <td>105916.49</td>\n      <td>NaN</td>\n      <td>NaN</td>\n      <td>...</td>\n      <td>NaN</td>\n      <td>NaN</td>\n      <td>NaN</td>\n      <td>36-4248787</td>\n      <td>W2</td>\n      <td>general_w2</td>\n      <td>YASH-LUJAN CONSULTING INC Y &amp; L CONSULTING, INC</td>\n      <td>STACY L STUMETZ</td>\n      <td>2016.0</td>\n      <td>110240.00</td>\n    </tr>\n    <tr>\n      <th>last_year_w2_1493335006405.PDF</th>\n      <td>452-93-6475</td>\n      <td>35987.53</td>\n      <td>35987.53</td>\n      <td>521.82</td>\n      <td>2231.23</td>\n      <td>2814.31</td>\n      <td>NaN</td>\n      <td>35987.53</td>\n      <td>NaN</td>\n      <td>NaN</td>\n      <td>...</td>\n      <td>NaN</td>\n      <td>NaN</td>\n      <td>NaN</td>\n      <td>74-2482708</td>\n      <td>W2</td>\n      <td>general_w2</td>\n      <td>TECO-WESTINGHOUSE MOTOR COMPANY</td>\n      <td>HENRY COTTLE</td>\n      <td>2016.0</td>\n      <td>43827.05</td>\n    </tr>\n    <tr>\n      <th>last_year_w2_1493752474038.PDF</th>\n      <td>365-04-7683</td>\n      <td>85245.86</td>\n      <td>85245.86</td>\n      <td>1236.06</td>\n      <td>5285.24</td>\n      <td>13629.89</td>\n      <td>3129.87</td>\n      <td>77722.96</td>\n      <td>NaN</td>\n      <td>[\"2069.50\", \"9.00\"]</td>\n      <td>...</td>\n      <td>10815.96</td>\n      <td>NaN</td>\n      <td>NaN</td>\n      <td>75-2778918</td>\n      <td>W2</td>\n      <td>general_w2</td>\n      <td>FLOWSERVE US INC</td>\n      <td>JASON ALLEN JERZ</td>\n      <td>2016.0</td>\n      <td>88420.20</td>\n    </tr>\n  </tbody>\n</table>\n<p>5 rows × 25 columns</p>\n</div>"
     },
     "metadata": {},
     "execution_count": 19
    }
   ],
   "source": [
    "data.golden.head()"
   ]
  },
  {
   "cell_type": "code",
   "execution_count": 20,
   "metadata": {},
   "outputs": [
    {
     "output_type": "execute_result",
     "data": {
      "text/plain": "{'last_year_w2_1493334985571.PDF': <instabase.ocr.client.libs.ibocr.ParsedIBOCR at 0x15aab26a0>,\n 'last_year_w2_1493334989467.PDF': <instabase.ocr.client.libs.ibocr.ParsedIBOCR at 0x15c32f470>,\n 'last_year_w2_1493334998968.PDF': <instabase.ocr.client.libs.ibocr.ParsedIBOCR at 0x159296fd0>,\n 'last_year_w2_1493335006405.PDF': <instabase.ocr.client.libs.ibocr.ParsedIBOCR at 0x15b864cc0>,\n 'last_year_w2_1493752474038.PDF': <instabase.ocr.client.libs.ibocr.ParsedIBOCR at 0x15acfae80>,\n 'last_year_w2_1493752534354.PDF': <instabase.ocr.client.libs.ibocr.ParsedIBOCR at 0x1598daba8>,\n 'last_year_w2_1493752539506.PDF': <instabase.ocr.client.libs.ibocr.ParsedIBOCR at 0x15bd2bcc0>,\n 'last_year_w2_1493755055795.PDF': <instabase.ocr.client.libs.ibocr.ParsedIBOCR at 0x15a59b8d0>,\n 'last_year_w2_1493919644111.PDF': <instabase.ocr.client.libs.ibocr.ParsedIBOCR at 0x15a42bbe0>,\n 'last_year_w2_1493919658342.PDF': <instabase.ocr.client.libs.ibocr.ParsedIBOCR at 0x156342fd0>,\n 'last_year_w2_1493919663593.PDF': <instabase.ocr.client.libs.ibocr.ParsedIBOCR at 0x15a348940>,\n 'last_year_w2_1493919671233.PDF': <instabase.ocr.client.libs.ibocr.ParsedIBOCR at 0x15c209518>,\n 'last_year_w2_1493919676693.PDF': <instabase.ocr.client.libs.ibocr.ParsedIBOCR at 0x156386860>,\n 'last_year_w2_1493919681752.PDF': <instabase.ocr.client.libs.ibocr.ParsedIBOCR at 0x15be4ae10>,\n 'last_year_w2_1493919686919.PDF': <instabase.ocr.client.libs.ibocr.ParsedIBOCR at 0x15a9e0780>,\n 'last_year_w2_1493919692244.PDF': <instabase.ocr.client.libs.ibocr.ParsedIBOCR at 0x1594c8dd8>,\n 'last_year_w2_1493919795941.PDF': <instabase.ocr.client.libs.ibocr.ParsedIBOCR at 0x15965ef60>,\n 'last_year_w2_1493919830139.PDF': <instabase.ocr.client.libs.ibocr.ParsedIBOCR at 0x15c0df438>,\n 'last_year_w2_1493919837646.pdf': <instabase.ocr.client.libs.ibocr.ParsedIBOCR at 0x15c5ec630>,\n 'last_year_w2_1493919867322.PDF': <instabase.ocr.client.libs.ibocr.ParsedIBOCR at 0x159892eb8>,\n 'last_year_w2_1493919897445.PDF': <instabase.ocr.client.libs.ibocr.ParsedIBOCR at 0x15a76f5c0>,\n 'last_year_w2_1494261867263.PDF': <instabase.ocr.client.libs.ibocr.ParsedIBOCR at 0x15bf06b00>,\n 'last_year_w2_1494261908342.PDF': <instabase.ocr.client.libs.ibocr.ParsedIBOCR at 0x1563e0ac8>,\n 'last_year_w2_1494262066281.PDF': <instabase.ocr.client.libs.ibocr.ParsedIBOCR at 0x158e9b748>,\n 'last_year_w2_1494265175121.PDF': <instabase.ocr.client.libs.ibocr.ParsedIBOCR at 0x15851eb38>,\n 'last_year_w2_1494266854379.pdf': <instabase.ocr.client.libs.ibocr.ParsedIBOCR at 0x15a1185f8>,\n 'last_year_w2_1494271068960.pdf': <instabase.ocr.client.libs.ibocr.ParsedIBOCR at 0x158ad6588>,\n 'last_year_w2_1494271080815.pdf': <instabase.ocr.client.libs.ibocr.ParsedIBOCR at 0x15bbdbcc0>,\n 'last_year_w2_1494271104951.PDF': <instabase.ocr.client.libs.ibocr.ParsedIBOCR at 0x15851ed68>,\n 'last_year_w2_1494271121485.PDF': <instabase.ocr.client.libs.ibocr.ParsedIBOCR at 0x158c27da0>,\n 'last_year_w2_1494271132398.PDF': <instabase.ocr.client.libs.ibocr.ParsedIBOCR at 0x15a045b38>,\n 'last_year_w2_1494271162294.PDF': <instabase.ocr.client.libs.ibocr.ParsedIBOCR at 0x159fd2978>,\n 'last_year_w2_1494271195603.PDF': <instabase.ocr.client.libs.ibocr.ParsedIBOCR at 0x15a4b1a90>,\n 'last_year_w2_1494271204620.PDF': <instabase.ocr.client.libs.ibocr.ParsedIBOCR at 0x158c92400>,\n 'last_year_w2_1494342956999.pdf': <instabase.ocr.client.libs.ibocr.ParsedIBOCR at 0x158bbcdd8>,\n 'last_year_w2_1494342971788.PDF': <instabase.ocr.client.libs.ibocr.ParsedIBOCR at 0x15b78d710>,\n 'last_year_w2_1494342980561.PDF': <instabase.ocr.client.libs.ibocr.ParsedIBOCR at 0x15c5beda0>,\n 'last_year_w2_1494342984428.PDF': <instabase.ocr.client.libs.ibocr.ParsedIBOCR at 0x15af42668>,\n 'last_year_w2_1494342988517.PDF': <instabase.ocr.client.libs.ibocr.ParsedIBOCR at 0x1591bf5f8>,\n 'last_year_w2_1494342994194.PDF': <instabase.ocr.client.libs.ibocr.ParsedIBOCR at 0x15c0385f8>,\n 'last_year_w2_1494343011313.PDF': <instabase.ocr.client.libs.ibocr.ParsedIBOCR at 0x159eb0fd0>,\n 'last_year_w2_1494343028867.PDF': <instabase.ocr.client.libs.ibocr.ParsedIBOCR at 0x15c73beb8>,\n 'last_year_w2_1494607068742.PDF': <instabase.ocr.client.libs.ibocr.ParsedIBOCR at 0x15b5c6ac8>,\n 'last_year_w2_1494607092402.PDF': <instabase.ocr.client.libs.ibocr.ParsedIBOCR at 0x15b3e1320>,\n 'last_year_w2_1494607347795.PDF': <instabase.ocr.client.libs.ibocr.ParsedIBOCR at 0x15b910e80>,\n 'last_year_w2_1494607780730.pdf': <instabase.ocr.client.libs.ibocr.ParsedIBOCR at 0x15b49ef98>,\n 'last_year_w2_1494609463139.pdf': <instabase.ocr.client.libs.ibocr.ParsedIBOCR at 0x15b725780>,\n 'last_year_w2_1494609473036.PDF': <instabase.ocr.client.libs.ibocr.ParsedIBOCR at 0x15632d470>,\n 'last_year_w2_1494609579761.PDF': <instabase.ocr.client.libs.ibocr.ParsedIBOCR at 0x15bf8b5f8>,\n 'last_year_w2_1494610589440.PDF': <instabase.ocr.client.libs.ibocr.ParsedIBOCR at 0x15632d358>,\n 'last_year_w2_1494611010084.PDF': <instabase.ocr.client.libs.ibocr.ParsedIBOCR at 0x159b9ec18>,\n 'last_year_w2_1494611258120.pdf': <instabase.ocr.client.libs.ibocr.ParsedIBOCR at 0x15c303630>,\n 'last_year_w2_1494967235432.PDF': <instabase.ocr.client.libs.ibocr.ParsedIBOCR at 0x159dabf28>,\n 'last_year_w2_1494967275596.PDF': <instabase.ocr.client.libs.ibocr.ParsedIBOCR at 0x1563a5b00>,\n 'last_year_w2_1494967342590.PDF': <instabase.ocr.client.libs.ibocr.ParsedIBOCR at 0x158f35e48>,\n 'last_year_w2_1494967368851.pdf': <instabase.ocr.client.libs.ibocr.ParsedIBOCR at 0x15c013e80>,\n 'last_year_w2_1494967450417.PDF': <instabase.ocr.client.libs.ibocr.ParsedIBOCR at 0x15b771e80>,\n 'last_year_w2_1494967502078.PDF': <instabase.ocr.client.libs.ibocr.ParsedIBOCR at 0x15915b4a8>,\n 'last_year_w2_1494967542380.PDF': <instabase.ocr.client.libs.ibocr.ParsedIBOCR at 0x15c1ba278>,\n 'last_year_w2_1494967555101.PDF': <instabase.ocr.client.libs.ibocr.ParsedIBOCR at 0x15adc4278>,\n 'last_year_w2_1494967595670.PDF': <instabase.ocr.client.libs.ibocr.ParsedIBOCR at 0x15b705748>,\n 'last_year_w2_1494967672208.pdf': <instabase.ocr.client.libs.ibocr.ParsedIBOCR at 0x15c563550>,\n 'last_year_w2_1494967692875.PDF': <instabase.ocr.client.libs.ibocr.ParsedIBOCR at 0x15a858a20>,\n 'last_year_w2_1494967766712.PDF': <instabase.ocr.client.libs.ibocr.ParsedIBOCR at 0x156314f28>,\n 'last_year_w2_1494967858361.PDF': <instabase.ocr.client.libs.ibocr.ParsedIBOCR at 0x15b084588>,\n 'last_year_w2_1494967936569.PDF': <instabase.ocr.client.libs.ibocr.ParsedIBOCR at 0x1595f4c18>,\n 'last_year_w2_1494967978788.PDF': <instabase.ocr.client.libs.ibocr.ParsedIBOCR at 0x15a69ac50>,\n 'last_year_w2_1494968011320.PDF': <instabase.ocr.client.libs.ibocr.ParsedIBOCR at 0x15baa48d0>,\n 'last_year_w2_1494968030430.pdf': <instabase.ocr.client.libs.ibocr.ParsedIBOCR at 0x159e0f438>,\n 'last_year_w2_1494968075297.PDF': <instabase.ocr.client.libs.ibocr.ParsedIBOCR at 0x15bb009b0>,\n 'last_year_w2_1494968078670.PDF': <instabase.ocr.client.libs.ibocr.ParsedIBOCR at 0x15b4d7748>,\n 'last_year_w2_1494968081996.PDF': <instabase.ocr.client.libs.ibocr.ParsedIBOCR at 0x158693668>,\n 'last_year_w2_1494968098673.PDF': <instabase.ocr.client.libs.ibocr.ParsedIBOCR at 0x158640748>,\n 'last_year_w2_1494968101626.PDF': <instabase.ocr.client.libs.ibocr.ParsedIBOCR at 0x15882b940>,\n 'last_year_w2_1494968117938.PDF': <instabase.ocr.client.libs.ibocr.ParsedIBOCR at 0x15c66e7f0>,\n 'last_year_w2_1494968229792.PDF': <instabase.ocr.client.libs.ibocr.ParsedIBOCR at 0x15b62a7b8>,\n 'last_year_w2_1494968285360.PDF': <instabase.ocr.client.libs.ibocr.ParsedIBOCR at 0x15b4725f8>,\n 'last_year_w2_1494968304898.pdf': <instabase.ocr.client.libs.ibocr.ParsedIBOCR at 0x15a1e7f60>,\n 'last_year_w2_1494968326840.PDF': <instabase.ocr.client.libs.ibocr.ParsedIBOCR at 0x15ade66d8>,\n 'last_year_w2_1494968371198.PDF': <instabase.ocr.client.libs.ibocr.ParsedIBOCR at 0x15b4f6828>,\n 'last_year_w2_1494968400061.pdf': <instabase.ocr.client.libs.ibocr.ParsedIBOCR at 0x15bfbc358>,\n 'last_year_w2_1494968525373.PDF': <instabase.ocr.client.libs.ibocr.ParsedIBOCR at 0x15b2fb4a8>,\n 'last_year_w2_1494968553744.PDF': <instabase.ocr.client.libs.ibocr.ParsedIBOCR at 0x15b2c06d8>,\n 'last_year_w2_1494968562615.PDF': <instabase.ocr.client.libs.ibocr.ParsedIBOCR at 0x15a277e80>,\n 'last_year_w2_1494968629832.PDF': <instabase.ocr.client.libs.ibocr.ParsedIBOCR at 0x15b16d4a8>,\n 'last_year_w2_1494968657219.PDF': <instabase.ocr.client.libs.ibocr.ParsedIBOCR at 0x1594a3978>,\n 'last_year_w2_1494968703766.pdf': <instabase.ocr.client.libs.ibocr.ParsedIBOCR at 0x15c47fc50>,\n 'last_year_w2_1494968716771.pdf': <instabase.ocr.client.libs.ibocr.ParsedIBOCR at 0x15937fc88>,\n 'last_year_w2_1494968739707.PDF': <instabase.ocr.client.libs.ibocr.ParsedIBOCR at 0x158ee6278>,\n 'last_year_w2_1494968749784.PDF': <instabase.ocr.client.libs.ibocr.ParsedIBOCR at 0x15c68ae80>,\n 'last_year_w2_1494968769919.PDF': <instabase.ocr.client.libs.ibocr.ParsedIBOCR at 0x1596f0630>,\n 'last_year_w2_1494968783718.PDF': <instabase.ocr.client.libs.ibocr.ParsedIBOCR at 0x15c427d30>,\n 'last_year_w2_1494968808776.pdf': <instabase.ocr.client.libs.ibocr.ParsedIBOCR at 0x158770438>,\n 'last_year_w2_1494968839220.PDF': <instabase.ocr.client.libs.ibocr.ParsedIBOCR at 0x158e469e8>,\n 'last_year_w2_1494972980996.PDF': <instabase.ocr.client.libs.ibocr.ParsedIBOCR at 0x15b257d68>,\n 'last_year_w2_1494973281950.pdf': <instabase.ocr.client.libs.ibocr.ParsedIBOCR at 0x15942efd0>,\n 'last_year_w2_1494973378162.PDF': <instabase.ocr.client.libs.ibocr.ParsedIBOCR at 0x15bfd0ac8>,\n 'last_year_w2_1494973439192.PDF': <instabase.ocr.client.libs.ibocr.ParsedIBOCR at 0x15a4816a0>,\n 'last_year_w2_1494973619602.pdf': <instabase.ocr.client.libs.ibocr.ParsedIBOCR at 0x1596b4630>,\n 'last_year_w2_1494973709362.PDF': <instabase.ocr.client.libs.ibocr.ParsedIBOCR at 0x159dbd588>,\n 'last_year_w2_1494973862236.PDF': <instabase.ocr.client.libs.ibocr.ParsedIBOCR at 0x15bd40e10>,\n 'last_year_w2_1494974200182.pdf': <instabase.ocr.client.libs.ibocr.ParsedIBOCR at 0x15b6b0438>,\n 'last_year_w2_1494974281600.pdf': <instabase.ocr.client.libs.ibocr.ParsedIBOCR at 0x159ce5588>,\n 'last_year_w2_1494974354749.PDF': <instabase.ocr.client.libs.ibocr.ParsedIBOCR at 0x159d62f28>,\n 'last_year_w2_1494974414895.PDF': <instabase.ocr.client.libs.ibocr.ParsedIBOCR at 0x159d722e8>,\n 'last_year_w2_1494974496670.PDF': <instabase.ocr.client.libs.ibocr.ParsedIBOCR at 0x15b9f86a0>,\n 'last_year_w2_1494974543429.PDF': <instabase.ocr.client.libs.ibocr.ParsedIBOCR at 0x158576748>,\n 'last_year_w2_1494976044553.PDF': <instabase.ocr.client.libs.ibocr.ParsedIBOCR at 0x1589f0898>,\n 'last_year_w2_1494976200348.PDF': <instabase.ocr.client.libs.ibocr.ParsedIBOCR at 0x15a255ba8>,\n 'last_year_w2_1494976227984.PDF': <instabase.ocr.client.libs.ibocr.ParsedIBOCR at 0x158f834a8>,\n 'last_year_w2_1494976364261.PDF': <instabase.ocr.client.libs.ibocr.ParsedIBOCR at 0x158c6eb70>,\n 'last_year_w2_1494976591528.PDF': <instabase.ocr.client.libs.ibocr.ParsedIBOCR at 0x15ac9ff28>,\n 'last_year_w2_1495059592755.JPEG': <instabase.ocr.client.libs.ibocr.ParsedIBOCR at 0x158cad978>,\n 'last_year_w2_1495059646952.PNG': <instabase.ocr.client.libs.ibocr.ParsedIBOCR at 0x158d925c0>,\n 'last_year_w2_1495120384760.JPEG': <instabase.ocr.client.libs.ibocr.ParsedIBOCR at 0x15c2b04a8>,\n 'last_year_w2_1495120427727.PNG': <instabase.ocr.client.libs.ibocr.ParsedIBOCR at 0x159b68860>,\n 'last_year_w2_1495120461121.PNG': <instabase.ocr.client.libs.ibocr.ParsedIBOCR at 0x158b9bdd8>,\n 'last_year_w2_1495120476042.PDF': <instabase.ocr.client.libs.ibocr.ParsedIBOCR at 0x1597919b0>,\n 'last_year_w2_1495120490059.PDF': <instabase.ocr.client.libs.ibocr.ParsedIBOCR at 0x15a981fd0>,\n 'last_year_w2_1495120702277.PDF': <instabase.ocr.client.libs.ibocr.ParsedIBOCR at 0x158c9ba58>,\n 'last_year_w2_1495142315422.PDF': <instabase.ocr.client.libs.ibocr.ParsedIBOCR at 0x159c15358>,\n 'last_year_w2_1495142408599.PDF': <instabase.ocr.client.libs.ibocr.ParsedIBOCR at 0x15afd3ba8>,\n 'last_year_w2_1495142539328.PDF': <instabase.ocr.client.libs.ibocr.ParsedIBOCR at 0x15969a1d0>,\n 'last_year_w2_1495142754897.PDF': <instabase.ocr.client.libs.ibocr.ParsedIBOCR at 0x15885aac8>,\n 'last_year_w2_1495231610867.PDF': <instabase.ocr.client.libs.ibocr.ParsedIBOCR at 0x15a8ba7f0>,\n 'last_year_w2_1495562635718.PNG': <instabase.ocr.client.libs.ibocr.ParsedIBOCR at 0x15abe1470>,\n 'last_year_w2_1495562738481.PDF': <instabase.ocr.client.libs.ibocr.ParsedIBOCR at 0x15ac59fd0>,\n 'last_year_w2_1495562857169.PDF': <instabase.ocr.client.libs.ibocr.ParsedIBOCR at 0x15c348630>,\n 'last_year_w2_1495563052751.PDF': <instabase.ocr.client.libs.ibocr.ParsedIBOCR at 0x158d202e8>,\n 'last_year_w2_1495563119916.PDF': <instabase.ocr.client.libs.ibocr.ParsedIBOCR at 0x159aba2e8>,\n 'last_year_w2_1495563191725.PDF': <instabase.ocr.client.libs.ibocr.ParsedIBOCR at 0x15aedffd0>,\n 'last_year_w2_1495563693590.JPEG': <instabase.ocr.client.libs.ibocr.ParsedIBOCR at 0x15bf55630>,\n 'last_year_w2_1495564098180.PDF': <instabase.ocr.client.libs.ibocr.ParsedIBOCR at 0x15bcc7f28>,\n 'last_year_w2_1495564349271.PDF': <instabase.ocr.client.libs.ibocr.ParsedIBOCR at 0x15ac38c88>,\n 'last_year_w2_1495564821316.PDF': <instabase.ocr.client.libs.ibocr.ParsedIBOCR at 0x15ab03390>,\n 'last_year_w2_1495565031369.JPEG': <instabase.ocr.client.libs.ibocr.ParsedIBOCR at 0x15955e898>,\n 'last_year_w2_1495565064610.PDF': <instabase.ocr.client.libs.ibocr.ParsedIBOCR at 0x158438710>,\n 'last_year_w2_1495565430115.PDF': <instabase.ocr.client.libs.ibocr.ParsedIBOCR at 0x159d39f98>,\n 'last_year_w2_1495580134983.PNG': <instabase.ocr.client.libs.ibocr.ParsedIBOCR at 0x159b1bc18>,\n 'last_year_w2_1495580364382.PDF': <instabase.ocr.client.libs.ibocr.ParsedIBOCR at 0x15c1739e8>,\n 'last_year_w2_1495580393199.PDF': <instabase.ocr.client.libs.ibocr.ParsedIBOCR at 0x159048048>,\n 'last_year_w2_1495580731840.PDF': <instabase.ocr.client.libs.ibocr.ParsedIBOCR at 0x1599caa58>}"
     },
     "metadata": {},
     "execution_count": 20
    }
   ],
   "source": [
    "data.dataset"
   ]
  },
  {
   "cell_type": "code",
   "execution_count": 4,
   "metadata": {
    "tags": []
   },
   "outputs": [
    {
     "output_type": "stream",
     "name": "stderr",
     "text": "INFO:root:Generating candidates for 142 files\nINFO:root:For X_DIST_THRESHOLD configuraion: 200\nINFO:root:total files: 142\nperson names found in candidates: 130\norg names found in candidates: 69\n\n"
    }
   ],
   "source": [
    "PROCESSING_CONFIG = {\n",
    "    'X_DIST_THRESHOLD': 200\n",
    "}\n",
    "\n",
    "DATA_ARGS = {\n",
    "    'task': task,\n",
    "    'dataset': data,\n",
    "    'candidates_fields': {\n",
    "        'person':'employee_name',\n",
    "        'org':'employer_name'\n",
    "    }\n",
    "}\n",
    "\n",
    "data.generate_candidates_phrases(PROCESSING_CONFIG)\n",
    "data.compare_candidates_and_goldens(DATA_ARGS['candidates_fields'])"
   ]
  },
  {
   "cell_type": "markdown",
   "metadata": {},
   "source": [
    "### Generate test data from goldens (from actual persons and company names) or from ibocr (using candidate phrases generated by processIBOCR2candidatePhrases())"
   ]
  },
  {
   "cell_type": "code",
   "execution_count": 5,
   "metadata": {
    "tags": []
   },
   "outputs": [],
   "source": [
    "PROCESSING_CONFIG = {\n",
    "    'X_DIST_THRESHOLD': 200\n",
    "}\n",
    "\n",
    "DATA_ARGS = {\n",
    "    'task': task,\n",
    "    'dataset': data,\n",
    "    'candidates_fields': {\n",
    "        'person':'employee_name',\n",
    "        'org':'employer_name'\n",
    "    }\n",
    "}\n",
    "\n",
    "fe = FeatureEngineeringNER(DATA_ARGS)\n",
    "test_data_from_goldens = fe.generate_test_samples_from_goldens() # single dataframe\n",
    "test_data_from_candidates = fe.generate_test_samples_from_candidates() # dict{'filename' : dataframe}"
   ]
  },
  {
   "cell_type": "markdown",
   "metadata": {},
   "source": [
    "### Loading fine-tuned model for inference. These models were separately trained using GPUs"
   ]
  },
  {
   "cell_type": "code",
   "execution_count": 6,
   "metadata": {
    "tags": []
   },
   "outputs": [],
   "source": [
    "MODEL_PATHS = {\n",
    "    'w2' : '/Users/ahsaasbajaj/Documents/Code/ner-hf/sequence-classification/w2/no-address/5/model.pt', # trained on public w2 from Kaggle\n",
    "    'public': '/Users/ahsaasbajaj/Documents/Code/ner-hf/sequence-classification/public/no-address/200/model.pt' # trained on public names repo\n",
    "}\n",
    "\n",
    "TRAINING_ARGS = {\n",
    "    'model_file_or_path' : MODEL_PATHS['w2'],\n",
    "    'model_type': 'bert-large-cased',\n",
    "    'num_labels': TASK_CONFIG['num_labels'],\n",
    "    'gpu': False,\n",
    "}\n",
    "\n",
    "model = BERTNER(DATA_ARGS, TRAINING_ARGS)"
   ]
  },
  {
   "cell_type": "markdown",
   "metadata": {},
   "source": [
    "### Setup model evaluator and evaluate either using test_data generated from goldens (test_data_from_goldens) or all candidate strings (test_data_from_candidates). \n",
    "#### Below code runs BERT inference and performs extraction, also calculating Recall, Precision, F1 by comparing with goldens"
   ]
  },
  {
   "cell_type": "code",
   "execution_count": 25,
   "metadata": {
    "tags": []
   },
   "outputs": [
    {
     "output_type": "stream",
     "name": "stderr",
     "text": "INFO:root:inferring BERT classifier for file last_year_w2_1494967595670.PDF\nINFO:root:inferring BERT classifier for file last_year_w2_1494271104951.PDF\nINFO:root:inferring BERT classifier for file last_year_w2_1493919830139.PDF\nINFO:root:inferring BERT classifier for file last_year_w2_1493919676693.PDF\nINFO:root:inferring BERT classifier for file last_year_w2_1495059646952.PNG\nINFO:root:For field person, recall: 0.8000, precision: 0.6500, F1: 0.7172 \nINFO:root:For field org, recall: 0.0000, precision: 0.0000, F1: nan \nNumber of files:  5\n"
    }
   ],
   "source": [
    "# Predictions\n",
    "# output_golden = model.predict(test_data_from_goldens) # single dataframe \n",
    "\n",
    "# print('Sample outputs: ', output_golden.head())\n",
    "# model.analyze_golden_result(output_golden)\n",
    "\n",
    "\n",
    "# Do only for debugging and getting quick results\n",
    "test_data = FeatureEngineering.get_subset_for_debugging(test_data_from_candidates, sample_size=5)\n",
    "\n",
    "output = model.predict(test_data) # output is a dictionary\n",
    "print('Number of files: ', len(output.keys()))\n",
    "results = model.analyze_result(output)"
   ]
  },
  {
   "cell_type": "code",
   "execution_count": 26,
   "metadata": {},
   "outputs": [
    {
     "output_type": "execute_result",
     "data": {
      "text/plain": "True"
     },
     "metadata": {},
     "execution_count": 26
    }
   ],
   "source": [
    "DIR_PATH = '/Users/ahsaasbajaj/Documents/Data/w2-instabase/pdf'\n",
    "DEMO_FILE = 'last_year_w2_1494607347795.PDF'\n",
    "\n",
    "FILE_PATH = DIR_PATH + '/' + DEMO_FILE \n",
    "webbrowser.open_new(r'file:' + FILE_PATH)"
   ]
  },
  {
   "cell_type": "code",
   "execution_count": 24,
   "metadata": {
    "tags": []
   },
   "outputs": [
    {
     "output_type": "stream",
     "name": "stderr",
     "text": "INFO:root:Field type: person\nINFO:root:filename: last_year_w2_1494607347795.PDF\nINFO:root:{'Employe', 'KRISTOFOR I MILLER', 'Workers.'}\nINFO:root:Field type: org\nINFO:root:filename: last_year_w2_1494607347795.PDF\nINFO:root:set()\n"
    }
   ],
   "source": [
    "model.demo(results, DEMO_FILE)"
   ]
  },
  {
   "cell_type": "code",
   "execution_count": 10,
   "metadata": {},
   "outputs": [
    {
     "output_type": "execute_result",
     "data": {
      "text/plain": "dict_keys(['last_year_w2_1494261908342.PDF', 'last_year_w2_1494342971788.PDF', 'last_year_w2_1493919676693.PDF', 'last_year_w2_1494271080815.pdf', 'last_year_w2_1494607347795.PDF'])"
     },
     "metadata": {},
     "execution_count": 10
    }
   ],
   "source": [
    "results['person'].keys()"
   ]
  },
  {
   "cell_type": "code",
   "execution_count": null,
   "metadata": {},
   "outputs": [],
   "source": []
  }
 ],
 "metadata": {
  "language_info": {
   "codemirror_mode": {
    "name": "ipython",
    "version": 3
   },
   "file_extension": ".py",
   "mimetype": "text/x-python",
   "name": "python",
   "nbconvert_exporter": "python",
   "pygments_lexer": "ipython3",
   "version": 3
  },
  "orig_nbformat": 2,
  "kernelspec": {
   "name": "python_defaultSpec_1597231193434",
   "display_name": "Python 3.7.3 64-bit ('3.7.3': pyenv)"
  }
 },
 "nbformat": 4,
 "nbformat_minor": 2
}