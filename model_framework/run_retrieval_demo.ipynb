{
 "cells": [
  {
   "cell_type": "code",
   "execution_count": 1,
   "metadata": {
    "tags": []
   },
   "outputs": [
    {
     "output_type": "stream",
     "name": "stderr",
     "text": "Using TensorFlow backend.\n"
    }
   ],
   "source": [
    "import os\n",
    "import importlib\n",
    "import logging\n",
    "import time\n",
    "importlib.reload(logging)\n",
    "import framework\n",
    "importlib.reload(framework)\n",
    "import bert_qa\n",
    "importlib.reload(bert_qa)\n",
    "import infer_bert_qa\n",
    "importlib.reload(infer_bert_qa)\n",
    "import bert_utils\n",
    "importlib.reload(bert_utils)\n",
    "import pandas as pd\n",
    "from framework import DataCuration, FeatureEngineering, StringProcessing\n",
    "from retrieval import TaskRetrieval, FeatureEngineeringRetrieval, Retrieval\n",
    "\n",
    "# Define some constants and configurations\n",
    "logging.getLogger().setLevel(logging.INFO)\n",
    "ACCESS_TOKEN = 'WUpGevbWC9lsnTW8quNUtmWRdAEM89'"
   ]
  },
  {
   "cell_type": "markdown",
   "metadata": {},
   "source": [
    "Set up the task details. This notebook handles Document Retrieval for CARTA dataset.\n"
   ]
  },
  {
   "cell_type": "code",
   "execution_count": 2,
   "metadata": {},
   "outputs": [],
   "source": [
    "DATASET = 'carta' # supports w2 and resume\n",
    "TASK_CONFIG = {\n",
    "    'task': 'retrieval'\n",
    "}\n",
    "\n",
    "task = TaskRetrieval(TASK_CONFIG)"
   ]
  },
  {
   "cell_type": "markdown",
   "metadata": {},
   "source": [
    "Set paths for datasets and goldens (local or ib, both work).\n",
    "Specify configurations"
   ]
  },
  {
   "cell_type": "code",
   "execution_count": 3,
   "metadata": {
    "tags": []
   },
   "outputs": [
    {
     "output_type": "stream",
     "name": "stderr",
     "text": "INFO:root:Loading dataset from /Users/ahsaasbajaj/Documents/Data/QA_model/data\nINFO:root:1 files loaded\nINFO:root:Processing 1 IBOCR files to txt\n"
    }
   ],
   "source": [
    "CARTA_DATA = [\n",
    "    # should contain only a single document, since the huge doc will be split into many segments (each treated as a new doc for retrieval)\n",
    "   '/Users/ahsaasbajaj/Documents/Data/QA_model/data'\n",
    "]\n",
    "\n",
    "DATASET_CONFIG = {\n",
    "    'path': CARTA_DATA,\n",
    "    'is_local': True, \n",
    "    'file_type': 'ibocr',\n",
    "    'identifier': lambda path: os.path.basename(path).split('.ibocr')[0],\n",
    "    'convert2txt': True\n",
    "}\n",
    "\n",
    "CARTA_GOLDEN = None\n",
    "GOLDEN_CONFIG = None\n",
    "\n",
    "data = DataCuration(ACCESS_TOKEN, DATASET_CONFIG, GOLDEN_CONFIG)"
   ]
  },
  {
   "cell_type": "code",
   "execution_count": 4,
   "metadata": {},
   "outputs": [
    {
     "output_type": "execute_result",
     "data": {
      "text/plain": "{'annotated_AOI_4.pdf': <instabase.ocr.client.libs.ibocr.ParsedIBOCR at 0x14f97d128>}"
     },
     "metadata": {},
     "execution_count": 4
    }
   ],
   "source": [
    "data.dataset"
   ]
  },
  {
   "cell_type": "code",
   "execution_count": 5,
   "metadata": {
    "tags": []
   },
   "outputs": [
    {
     "output_type": "stream",
     "name": "stderr",
     "text": "INFO:root:Total pages in file: 20\nfilename to split and query:  annotated_AOI_4.pdf\nINFO:root:Total Corpus Size 247 docs\n"
    }
   ],
   "source": [
    "filename = list(data.dataset.keys())[0]\n",
    "print('filename to split and query: ', filename)\n",
    "\n",
    "query = \"Common Stocks\"\n",
    "\n",
    "NUM_FILES = len(data.dataset.keys())\n",
    "stime = time.time()\n",
    "\n",
    "DATA_ARGS = {\n",
    "    'task': task,\n",
    "    'dataset': data\n",
    "}\n",
    "\n",
    "TRAINING_ARGS = {\n",
    "'model_file_or_path': \"BM25Okapi\"\n",
    "}\n",
    "\n",
    "fe = FeatureEngineeringRetrieval(DATA_ARGS)\n",
    "\n",
    "corpus, doc_to_id_map = fe.split_doc(filename=filename, split_size=100)  # list of document segments\n"
   ]
  },
  {
   "cell_type": "code",
   "execution_count": 6,
   "metadata": {},
   "outputs": [
    {
     "output_type": "execute_result",
     "data": {
      "text/plain": "247"
     },
     "metadata": {},
     "execution_count": 6
    }
   ],
   "source": [
    "len(corpus)"
   ]
  },
  {
   "cell_type": "code",
   "execution_count": 7,
   "metadata": {
    "tags": []
   },
   "outputs": [
    {
     "output_type": "stream",
     "name": "stderr",
     "text": "INFO:root:Scores available for 247 docs\nINFO:root:Total time 1.1186749935150146 seconds\n"
    }
   ],
   "source": [
    "tokenized_corpus = fe.tokenize_corpus(corpus)\n",
    "\n",
    "model = Retrieval(DATA_ARGS, TRAINING_ARGS)\n",
    "model.train(corpus, doc_to_id_map, tokenized_corpus)\n",
    "output, scores = model.predict(query, len_results=5)\n",
    "\n",
    "etime = time.time()\n",
    "logging.info('Total time {} seconds'.format(etime - stime))"
   ]
  },
  {
   "cell_type": "code",
   "execution_count": 8,
   "metadata": {},
   "outputs": [],
   "source": [
    "# output"
   ]
  },
  {
   "cell_type": "code",
   "execution_count": 9,
   "metadata": {
    "tags": []
   },
   "outputs": [
    {
     "output_type": "stream",
     "name": "stdout",
     "text": "Ranked Item 1 Matching score: 1.931\nIn the event that the Company shall declare or pay, without consideration, any dividend on the Common Stock payable in any right to acquire Common Stock for no consideration, then the Company shall be deemed to have made a dividend payable in Common Stock in an amount of shares equal to the maximum number of shares issuable upon exercise of such rights to acquireas Common Stock. \n\nRanked Item 2 Matching score: 1.764\n10 determined by multiplying such Conversion Price by a fraction, the numerator of which shall be the number of shares of Common Stock Outstanding (as defined below) immediately prior to such issue plus the number of shares of Common Stock which the aggregate consideration received by the Company for the total number of Additional Shares of Common Stock so issued would purchase at such Conversion Price in effect immediately prior to such issue, and the denominator of which shall be the number of shares of Common Stock Outstanding immediately prior to such issue plus the number of such Additional Shares of Common Stock so issued. \n\nRanked Item 3 Matching score: 1.737\n(b), such dividend shall be distributed among all holders of Common Stock and Preferred Stock in proportion to the number of shares of Common Stock that would be held by each such holder if all shares of Preferred \n\nRanked Item 4 Matching score: 1.719\nThe Common Directors may be removed from the Board, either with or without cause, only by the affirmative vote or written consent of the holders of a majority of the outstanding shares of Common Stock, voting as a separate class. \n\nRanked Item 5 Matching score: 1.689\nStock were converted to Common Stock at the then effective conversion rate. \n\n"
    }
   ],
   "source": [
    "idx = 1\n",
    "for doc, score in zip(output, scores):\n",
    "    print('Ranked Item {0} Matching score: {1:0.3f}'.format(idx, score))\n",
    "    clean_output = \" \".join(doc.split())\n",
    "    print(clean_output, '\\n')\n",
    "    idx += 1"
   ]
  },
  {
   "cell_type": "code",
   "execution_count": null,
   "metadata": {},
   "outputs": [],
   "source": []
  }
 ],
 "metadata": {
  "language_info": {
   "codemirror_mode": {
    "name": "ipython",
    "version": 3
   },
   "file_extension": ".py",
   "mimetype": "text/x-python",
   "name": "python",
   "nbconvert_exporter": "python",
   "pygments_lexer": "ipython3",
   "version": 3
  },
  "orig_nbformat": 2,
  "kernelspec": {
   "name": "python_defaultSpec_1597913575192",
   "display_name": "Python 3.7.3 64-bit ('3.7.3': pyenv)"
  }
 },
 "nbformat": 4,
 "nbformat_minor": 2
}