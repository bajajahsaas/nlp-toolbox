{
 "cells": [
  {
   "cell_type": "code",
   "execution_count": 42,
   "metadata": {
    "tags": []
   },
   "outputs": [],
   "source": [
    "import os\n",
    "import importlib\n",
    "import logging\n",
    "importlib.reload(logging)\n",
    "import framework\n",
    "importlib.reload(framework)\n",
    "import refiner\n",
    "importlib.reload(refiner)\n",
    "import infer_bert_classifier\n",
    "importlib.reload(infer_bert_classifier)\n",
    "import bert_utils\n",
    "importlib.reload(bert_utils)\n",
    "import pandas as pd\n",
    "import webbrowser\n",
    "from framework import DataCuration\n",
    "from refiner import Refiner, TaskNER\n",
    "\n",
    "# Define some constants and configurations\n",
    "logging.getLogger().setLevel(logging.INFO)\n",
    "ACCESS_TOKEN = 'WUpGevbWC9lsnTW8quNUtmWRdAEM89'"
   ]
  },
  {
   "cell_type": "markdown",
   "metadata": {},
   "source": [
    "Set up the task details. This notebook handles NER (for labeling person and company names)"
   ]
  },
  {
   "cell_type": "code",
   "execution_count": 43,
   "metadata": {},
   "outputs": [],
   "source": [
    "DATASET = 'w2' # supports w2 and resume\n",
    "TASK_CONFIG = {\n",
    "    'task': 'ner',\n",
    "    'num_labels': 3,\n",
    "    'labels_dict': {'person' : 0, 'org' : 1, 'none': 2}\n",
    "}\n",
    "\n",
    "task = TaskNER(TASK_CONFIG)"
   ]
  },
  {
   "cell_type": "code",
   "execution_count": 44,
   "metadata": {
    "tags": []
   },
   "outputs": [
    {
     "output_type": "stream",
     "name": "stderr",
     "text": "INFO:root:Loading dataset from /Users/ahsaasbajaj/Documents/Data/w2-instabase/flow/s2_map_records\nINFO:root:142 files loaded\nINFO:root:Loading goldens from /Users/ahsaasbajaj/Documents/Data/w2-instabase/golden/goldens.csv\nINFO:root:Total files Goldens: (154, 25)\nINFO:root:Total files found in the source with unique index: (142, 25)\nINFO:root:Processing 142 IBOCR files to txt\n"
    }
   ],
   "source": [
    "W2_DATA = [\n",
    "   '/Users/ahsaasbajaj/Documents/Data/w2-instabase/flow/s2_map_records'\n",
    "]\n",
    "W2_GOLDEN = [\n",
    "   '/Users/ahsaasbajaj/Documents/Data/w2-instabase/golden/goldens.csv'\n",
    "]\n",
    "\n",
    "GOLDEN_CONFIG = {\n",
    "    'path': W2_GOLDEN,\n",
    "    'is_local': True,\n",
    "    'index_field_name':'filename',\n",
    "    'file_type': 'csv',\n",
    "    'identifier': 'file'\n",
    "}\n",
    "DATASET_CONFIG = {\n",
    "    'path': W2_DATA,\n",
    "    'is_local': True, \n",
    "    'file_type': 'ibocr',\n",
    "    'identifier': lambda path: os.path.basename(path).split('.ibocr')[0],\n",
    "    'convert2txt': True\n",
    "}\n",
    "\n",
    "data = DataCuration(ACCESS_TOKEN, DATASET_CONFIG, GOLDEN_CONFIG)"
   ]
  },
  {
   "cell_type": "markdown",
   "metadata": {},
   "source": [
    "Set paths for datasets and goldens (local or ib, both work).\n",
    "Specify configurations"
   ]
  },
  {
   "cell_type": "code",
   "execution_count": 45,
   "metadata": {},
   "outputs": [],
   "source": [
    "DATASET = 'w2' # supports w2 and resume\n",
    "TASK_CONFIG = {\n",
    "    'task': 'ner',\n",
    "    'num_labels': 3,\n",
    "    'labels_dict': {'person' : 0, 'org' : 1, 'none': 2}\n",
    "}\n",
    "\n",
    "task = TaskNER(TASK_CONFIG)"
   ]
  },
  {
   "cell_type": "code",
   "execution_count": 46,
   "metadata": {
    "tags": []
   },
   "outputs": [],
   "source": [
    "W2_REFINER_RESULT_PATH = '/Users/ahsaasbajaj/Documents/Code/ner-hf/sequence-classification/refiner_results/w2.ibocr'\n",
    "RESUME_REFINER_RESULT_PATH = '/Users/ahsaasbajaj/Documents/Code/ner-hf/sequence-classification/refiner_results/resume.ibocr'\n",
    "\n",
    "DATA_ARGS = {\n",
    "    'task': task,\n",
    "    'dataset': data,\n",
    "    'candidates_fields': {\n",
    "        'person':'employee_name',\n",
    "        'org':'employer_name'\n",
    "    }\n",
    "}\n",
    "TRAINING_ARGS = {\n",
    "    'model_file_or_path' : W2_REFINER_RESULT_PATH,\n",
    "    'num_labels': TASK_CONFIG['num_labels'],\n",
    "}\n",
    "\n",
    "MODELS_TO_EVAL = {\n",
    "    'models': ['names_vontell', 'names_token_matcher'],\n",
    "    'spacy_models': ['names_spacy', 'org_spacy'],\n",
    "\n",
    "    'person_name_models': ['names_vontell', 'names_token_matcher', 'names_spacy'],\n",
    "    'org_name_models': ['org_spacy'],\n",
    "}"
   ]
  },
  {
   "cell_type": "markdown",
   "metadata": {},
   "source": [
    "Load ouputs from refiner flow (after step 4 producing single out.ibocr) and get extractions and metrics (Recall, Precision, F1) by comparing with goldens"
   ]
  },
  {
   "cell_type": "code",
   "execution_count": 47,
   "metadata": {
    "tags": []
   },
   "outputs": [
    {
     "output_type": "stream",
     "name": "stderr",
     "text": "INFO:root:\nPerson Name Scores\nINFO:root:For model names_vontell, recall: 0.7465, precision: 0.4180, F1: 0.5359 \nINFO:root:For model names_token_matcher, recall: 0.6549, precision: 0.4602, F1: 0.5405 \nINFO:root:For model names_spacy, recall: 0.0915, precision: 0.0034, F1: 0.0066 \nINFO:root:\nOrg Name Scores\nINFO:root:For model org_spacy, recall: 0.0775, precision: 0.0012, F1: 0.0023 \n"
    }
   ],
   "source": [
    "model = Refiner(DATA_ARGS, TRAINING_ARGS, MODELS_TO_EVAL)\n",
    "results = model.analyze_results()"
   ]
  },
  {
   "cell_type": "markdown",
   "metadata": {},
   "source": [
    "Print extractions"
   ]
  },
  {
   "cell_type": "code",
   "execution_count": 48,
   "metadata": {
    "tags": []
   },
   "outputs": [
    {
     "output_type": "stream",
     "name": "stdout",
     "text": "dict_keys(['person', 'org'])\ndict_keys(['names_vontell', 'names_token_matcher', 'names_spacy'])\n"
    }
   ],
   "source": [
    "print(results.keys())\n",
    "print(results['person'].keys())\n",
    "# print(results['person']['names_vontell'].keys())"
   ]
  },
  {
   "cell_type": "code",
   "execution_count": 49,
   "metadata": {
    "tags": []
   },
   "outputs": [
    {
     "output_type": "execute_result",
     "data": {
      "text/plain": "dict_keys(['last_year_w2_1494610589440.PDF', 'last_year_w2_1493919658342.PDF', 'last_year_w2_1494609473036.PDF', 'last_year_w2_1493919676693.PDF', 'last_year_w2_1494967766712.PDF', 'last_year_w2_1494967275596.PDF', 'last_year_w2_1495565064610.PDF', 'last_year_w2_1494271104951.PDF', 'last_year_w2_1494974543429.PDF', 'last_year_w2_1494968098673.PDF', 'last_year_w2_1494968081996.PDF', 'last_year_w2_1494968808776.pdf', 'last_year_w2_1495142754897.PDF', 'last_year_w2_1494265175121.PDF', 'last_year_w2_1494261908342.PDF', 'last_year_w2_1494968101626.PDF', 'last_year_w2_1494976044553.PDF', 'last_year_w2_1494271068960.pdf', 'last_year_w2_1494342956999.pdf', 'last_year_w2_1495120461121.PNG', 'last_year_w2_1494271121485.PDF', 'last_year_w2_1494976364261.PDF', 'last_year_w2_1494271204620.PDF', 'last_year_w2_1495120702277.PDF', 'last_year_w2_1495059592755.JPEG', 'last_year_w2_1495059646952.PNG', 'last_year_w2_1495563052751.PDF', 'last_year_w2_1494968839220.PDF', 'last_year_w2_1494262066281.PDF', 'last_year_w2_1494968739707.PDF', 'last_year_w2_1494967342590.PDF', 'last_year_w2_1494976227984.PDF', 'last_year_w2_1495580393199.PDF', 'last_year_w2_1494967502078.PDF', 'last_year_w2_1493334998968.PDF', 'last_year_w2_1494342988517.PDF', 'last_year_w2_1494973281950.pdf', 'last_year_w2_1494968716771.pdf', 'last_year_w2_1494968657219.PDF', 'last_year_w2_1493919692244.PDF', 'last_year_w2_1494967936569.PDF', 'last_year_w2_1493919795941.PDF', 'last_year_w2_1495565031369.JPEG', 'last_year_w2_1495142539328.PDF', 'last_year_w2_1494973619602.pdf', 'last_year_w2_1495120476042.PDF', 'last_year_w2_1493919867322.PDF', 'last_year_w2_1494968769919.PDF', 'last_year_w2_1493752534354.PDF', 'last_year_w2_1495580731840.PDF', 'last_year_w2_1495563119916.PDF', 'last_year_w2_1495580134983.PNG', 'last_year_w2_1495120427727.PNG', 'last_year_w2_1494611010084.PDF', 'last_year_w2_1495142315422.PDF', 'last_year_w2_1494974281600.pdf', 'last_year_w2_1495565430115.PDF', 'last_year_w2_1494974354749.PDF', 'last_year_w2_1494974414895.PDF', 'last_year_w2_1494973709362.PDF', 'last_year_w2_1494343011313.PDF', 'last_year_w2_1494967235432.PDF', 'last_year_w2_1494968030430.pdf', 'last_year_w2_1494271162294.PDF', 'last_year_w2_1494271132398.PDF', 'last_year_w2_1494968304898.pdf', 'last_year_w2_1494266854379.pdf', 'last_year_w2_1494968562615.PDF', 'last_year_w2_1494976200348.PDF', 'last_year_w2_1493919663593.PDF', 'last_year_w2_1493919644111.PDF', 'last_year_w2_1494973439192.PDF', 'last_year_w2_1494271195603.PDF', 'last_year_w2_1493755055795.PDF', 'last_year_w2_1494967978788.PDF', 'last_year_w2_1493919897445.PDF', 'last_year_w2_1494967692875.PDF', 'last_year_w2_1495231610867.PDF', 'last_year_w2_1495120490059.PDF', 'last_year_w2_1493919686919.PDF', 'last_year_w2_1493334985571.PDF', 'last_year_w2_1495564821316.PDF', 'last_year_w2_1495562635718.PNG', 'last_year_w2_1495562738481.PDF', 'last_year_w2_1495564349271.PDF', 'last_year_w2_1493752474038.PDF', 'last_year_w2_1494976591528.PDF', 'last_year_w2_1494968326840.PDF', 'last_year_w2_1495563191725.PDF', 'last_year_w2_1494967555101.PDF', 'last_year_w2_1494342984428.PDF', 'last_year_w2_1495142408599.PDF', 'last_year_w2_1494967858361.PDF', 'last_year_w2_1494968629832.PDF', 'last_year_w2_1494972980996.PDF', 'last_year_w2_1494968553744.PDF', 'last_year_w2_1494968525373.PDF', 'last_year_w2_1494607092402.PDF', 'last_year_w2_1494968285360.PDF', 'last_year_w2_1494607780730.pdf', 'last_year_w2_1494968078670.PDF', 'last_year_w2_1494968371198.PDF', 'last_year_w2_1494607068742.PDF', 'last_year_w2_1494974200182.pdf', 'last_year_w2_1494968229792.PDF', 'last_year_w2_1494967595670.PDF', 'last_year_w2_1494609463139.pdf', 'last_year_w2_1494967450417.PDF', 'last_year_w2_1494342971788.PDF', 'last_year_w2_1493335006405.PDF', 'last_year_w2_1494607347795.PDF', 'last_year_w2_1494974496670.PDF', 'last_year_w2_1494968011320.PDF', 'last_year_w2_1494968075297.PDF', 'last_year_w2_1495564098180.PDF', 'last_year_w2_1494271080815.pdf', 'last_year_w2_1493752539506.PDF', 'last_year_w2_1494973862236.PDF', 'last_year_w2_1493919681752.PDF', 'last_year_w2_1494261867263.PDF', 'last_year_w2_1495563693590.JPEG', 'last_year_w2_1494609579761.PDF', 'last_year_w2_1494968400061.pdf', 'last_year_w2_1494967368851.pdf', 'last_year_w2_1494973378162.PDF', 'last_year_w2_1494342994194.PDF', 'last_year_w2_1493919830139.PDF', 'last_year_w2_1495580364382.PDF', 'last_year_w2_1494967542380.PDF', 'last_year_w2_1493919671233.PDF', 'last_year_w2_1495120384760.JPEG', 'last_year_w2_1494611258120.pdf', 'last_year_w2_1493334989467.PDF', 'last_year_w2_1495562857169.PDF', 'last_year_w2_1494968783718.PDF', 'last_year_w2_1494968703766.pdf', 'last_year_w2_1494967672208.pdf', 'last_year_w2_1494342980561.PDF', 'last_year_w2_1493919837646.pdf', 'last_year_w2_1494968749784.PDF', 'last_year_w2_1494968117938.PDF', 'last_year_w2_1494343028867.PDF'])"
     },
     "metadata": {},
     "execution_count": 49
    }
   ],
   "source": [
    "data.dataset.keys()"
   ]
  },
  {
   "cell_type": "code",
   "execution_count": 50,
   "metadata": {
    "tags": []
   },
   "outputs": [
    {
     "output_type": "stream",
     "name": "stderr",
     "text": "INFO:root:Field type: person\nINFO:root:model type: names_vontell\nINFO:root:{'MUDD-MOSHER X', 'SUE MUDD-MOSHER', 'PAMELA SUE'}\nINFO:root:\n\nINFO:root:model type: names_token_matcher\nINFO:root:{'PAMELA SUE'}\nINFO:root:\n\nINFO:root:model type: names_spacy\nINFO:root:{'Nonqualified', '736', 'HOSPITAL', 'VIRGINIA', \"Employer's\", '120', 'Return OMB', 'Third-party', 'Wage', '20', '2a', 'VA', 'Medicare', 'Allocated', \"Employee's\", 'Filed', 'PAMELA', 'SeService', '18', '6', 'GINIA', 'C', '2412.74', 'NORTH'}\nINFO:root:\n\nINFO:root:\n\nINFO:root:Field type: org\nINFO:root:model type: org_spacy\nINFO:root:{'Federal', 'CHESAPEAKE VA', '16', 'HOSPITAL', 'Tax Statement', '(', 'RECORDS', '2', 'EIN', 'Locality', 'IRS', 'FEDERAL Tax', 'CHESAPEAKE', 'State', '13', 'SPRING', 'Form W-2', 'Social', 'SUE MUDD', 'Medicare', 'Copy B.', 'Treasury-', 'Allocated', \"Employee's\", 'the Internal Revenue Service', 'VA 23320', 'Form', 'BEACH VA', 'SickParty', 'Employee'}\nINFO:root:\n\nINFO:root:\n\n"
    }
   ],
   "source": [
    "DEMO_FILE = 'last_year_w2_1494265175121.PDF'\n",
    "model.demo(results, DEMO_FILE)"
   ]
  },
  {
   "cell_type": "code",
   "execution_count": 22,
   "metadata": {},
   "outputs": [
    {
     "output_type": "execute_result",
     "data": {
      "text/plain": "dict_keys(['person', 'org'])"
     },
     "metadata": {},
     "execution_count": 22
    }
   ],
   "source": []
  },
  {
   "cell_type": "code",
   "execution_count": 23,
   "metadata": {},
   "outputs": [
    {
     "output_type": "execute_result",
     "data": {
      "text/plain": "dict_keys(['names_vontell', 'names_token_matcher', 'names_spacy'])"
     },
     "metadata": {},
     "execution_count": 23
    }
   ],
   "source": []
  },
  {
   "cell_type": "code",
   "execution_count": 63,
   "metadata": {},
   "outputs": [],
   "source": [
    "DIR_PATH = '/Users/ahsaasbajaj/Documents/Data/w2-instabase/pdf'\n",
    "FILE_PATH = DIR_PATH + '/' + DEMO_FILE \n"
   ]
  },
  {
   "cell_type": "code",
   "execution_count": 64,
   "metadata": {},
   "outputs": [
    {
     "output_type": "execute_result",
     "data": {
      "text/plain": "True"
     },
     "metadata": {},
     "execution_count": 64
    }
   ],
   "source": [
    "\n",
    "webbrowser.open_new(r'file:' + FILE_PATH)"
   ]
  },
  {
   "cell_type": "code",
   "execution_count": null,
   "metadata": {},
   "outputs": [],
   "source": []
  }
 ],
 "metadata": {
  "language_info": {
   "codemirror_mode": {
    "name": "ipython",
    "version": 3
   },
   "file_extension": ".py",
   "mimetype": "text/x-python",
   "name": "python",
   "nbconvert_exporter": "python",
   "pygments_lexer": "ipython3",
   "version": 3
  },
  "orig_nbformat": 2,
  "kernelspec": {
   "name": "python_defaultSpec_1596519184983",
   "display_name": "Python 3.7.3 64-bit ('3.7.3': pyenv)"
  }
 },
 "nbformat": 4,
 "nbformat_minor": 2
}