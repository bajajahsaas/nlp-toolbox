{
 "cells": [
  {
   "cell_type": "code",
   "execution_count": 18,
   "metadata": {
    "tags": []
   },
   "outputs": [],
   "source": [
    "import os\n",
    "import importlib\n",
    "import logging\n",
    "import time\n",
    "importlib.reload(logging)\n",
    "import framework\n",
    "importlib.reload(framework)\n",
    "import bert_qa\n",
    "importlib.reload(bert_qa)\n",
    "import infer_bert_qa\n",
    "importlib.reload(infer_bert_qa)\n",
    "import bert_utils\n",
    "importlib.reload(bert_utils)\n",
    "import pandas as pd\n",
    "from framework import DataCuration, FeatureEngineering\n",
    "from bert_qa import TaskQA, FeatureEngineeringQA, BERTQA\n",
    "\n",
    "# Define some constants and configurations\n",
    "logging.getLogger().setLevel(logging.INFO)\n",
    "ACCESS_TOKEN = 'WUpGevbWC9lsnTW8quNUtmWRdAEM89'"
   ]
  },
  {
   "cell_type": "markdown",
   "metadata": {},
   "source": [
    "Set up the task details. This notebook handles Question Answering for CARTA dataset.\n",
    "\n",
    "Example\n",
    "\n",
    "context = \"New Zealand (Māori: Aotearoa) is a sovereign island country in the southwestern Pacific Ocean. It has a total land area of 268,000 square kilometres (103,500 sq mi), and a population of 4.9 million. New Zealand's capital city is Wellington, and its most populous city is Auckland.\"\n",
    "\n",
    "questions = \"How many people live in New Zealand?\", \"What's the largest city?\"\n"
   ]
  },
  {
   "cell_type": "code",
   "execution_count": 19,
   "metadata": {},
   "outputs": [],
   "source": [
    "DATASET = 'carta' # supports w2 and resume\n",
    "TASK_CONFIG = {\n",
    "    'task': 'qa'\n",
    "}\n",
    "\n",
    "task = TaskQA(TASK_CONFIG)"
   ]
  },
  {
   "cell_type": "markdown",
   "metadata": {},
   "source": [
    "Set paths for datasets and goldens (local or ib, both work).\n",
    "Specify configurations"
   ]
  },
  {
   "cell_type": "code",
   "execution_count": 20,
   "metadata": {
    "tags": []
   },
   "outputs": [
    {
     "output_type": "stream",
     "name": "stderr",
     "text": "INFO:root:Loading dataset from /Users/ahsaasbajaj/Documents/Data/QA_model/data\nINFO:root:1 files loaded\nINFO:root:Processing 1 IBOCR files to txt\n"
    }
   ],
   "source": [
    "CARTA_DATA = [\n",
    "   '/Users/ahsaasbajaj/Documents/Data/QA_model/data'\n",
    "]\n",
    "\n",
    "DATASET_CONFIG = {\n",
    "    'path': CARTA_DATA,\n",
    "    'is_local': True, \n",
    "    'file_type': 'ibocr',\n",
    "    'identifier': lambda path: os.path.basename(path).split('.ibocr')[0],\n",
    "    'convert2txt': True\n",
    "}\n",
    "\n",
    "CARTA_GOLDEN = None\n",
    "GOLDEN_CONFIG = None\n",
    "\n",
    "data = DataCuration(ACCESS_TOKEN, DATASET_CONFIG, GOLDEN_CONFIG)"
   ]
  },
  {
   "cell_type": "code",
   "execution_count": 21,
   "metadata": {},
   "outputs": [
    {
     "output_type": "execute_result",
     "data": {
      "text/plain": "{'annotated_AOI_4.pdf': <instabase.ocr.client.libs.ibocr.ParsedIBOCR at 0x1508aa588>}"
     },
     "metadata": {},
     "execution_count": 21
    }
   ],
   "source": [
    "data.dataset"
   ]
  },
  {
   "cell_type": "code",
   "execution_count": 22,
   "metadata": {},
   "outputs": [],
   "source": [
    "# open_queries = [ \n",
    "#                 \"Who is incorporating the company?\",\n",
    "#                 \"How many shares are being created?\",\n",
    "#                 \"What are the number of authorized shares?\",\n",
    "#                 \"What are the Preferred stocks?\",\n",
    "#                 \"What are the Non-cumulative dividends?\",\n",
    "#                 \"What are the Common stocks?\",\n",
    "#                 \"What is the Dividend rate per annum per preferred share type?\",\n",
    "#                 \"What is the original issue price per share?\",\n",
    "#                 \"What is the seniority of preferred share?\",\n",
    "#                 \"What is the liquidation preference?\",\n",
    "#                 \"What is the conversion price\"\n",
    "#                 ]"
   ]
  },
  {
   "cell_type": "code",
   "execution_count": 23,
   "metadata": {
    "tags": []
   },
   "outputs": [
    {
     "output_type": "stream",
     "name": "stderr",
     "text": "INFO:root: Total number of Files: 1\nINFO:root:File name: annotated_AOI_4.pdf\nconvert squad examples to features: 100%|██████████| 1/1 [00:02<00:00,  2.94s/it]\nadd example index and unique id: 100%|██████████| 1/1 [00:00<00:00, 1200.43it/s]\nINFO:root:Total time 166.33493494987488 seconds\nWhat are the Preferred stocks? : Series A Preferred Stock and Series A-1 Preferred Stock\n"
    }
   ],
   "source": [
    "query = \"What are the Preferred stocks?\"\n",
    "\n",
    "NUM_FILES = len(data.dataset.keys())\n",
    "stime = time.time()\n",
    "\n",
    "DATA_ARGS = {\n",
    "    'task': task,\n",
    "    'dataset': data\n",
    "}\n",
    "\n",
    "TRAINING_ARGS = {\n",
    "'model_file_or_path': \"/Users/ahsaasbajaj/Documents/Data/QA_model/model\", # finetuned checkpoint available directly\n",
    "'gpu': False,\n",
    "'output_dir': '../outputs/bert_qa'\n",
    "}\n",
    "\n",
    "model = BERTQA(DATA_ARGS, TRAINING_ARGS)\n",
    "output = model.predict(query)\n",
    "\n",
    "etime = time.time()\n",
    "logging.info('Total time {} seconds'.format(etime - stime))"
   ]
  },
  {
   "cell_type": "code",
   "execution_count": 24,
   "metadata": {
    "tags": []
   },
   "outputs": [
    {
     "output_type": "stream",
     "name": "stdout",
     "text": "filename:  annotated_AOI_4.pdf\nquery:  What are the Preferred stocks?\nanswer:  Series A Preferred Stock and Series A-1 Preferred Stock\n"
    }
   ],
   "source": [
    "output = output.set_index('filename')\n",
    "filenames = output.index.to_list()\n",
    "\n",
    "for filename in filenames:\n",
    "    print(\"filename: \", filename)\n",
    "\n",
    "    for col in output.columns.to_list():\n",
    "        print(\"query: \", col)\n",
    "        answer = output.loc[filename, col]\n",
    "        print(\"answer: \", answer)\n",
    "    "
   ]
  },
  {
   "cell_type": "code",
   "execution_count": null,
   "metadata": {},
   "outputs": [],
   "source": []
  }
 ],
 "metadata": {
  "language_info": {
   "codemirror_mode": {
    "name": "ipython",
    "version": 3
   },
   "file_extension": ".py",
   "mimetype": "text/x-python",
   "name": "python",
   "nbconvert_exporter": "python",
   "pygments_lexer": "ipython3",
   "version": 3
  },
  "orig_nbformat": 2,
  "kernelspec": {
   "name": "python_defaultSpec_1597778883987",
   "display_name": "Python 3.7.3 64-bit ('3.7.3': pyenv)"
  }
 },
 "nbformat": 4,
 "nbformat_minor": 2
}